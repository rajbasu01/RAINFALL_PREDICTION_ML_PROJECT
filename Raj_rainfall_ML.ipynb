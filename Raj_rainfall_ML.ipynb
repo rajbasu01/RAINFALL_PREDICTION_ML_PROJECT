{
 "cells": [
  {
   "cell_type": "code",
   "execution_count": 1,
   "id": "851de117",
   "metadata": {},
   "outputs": [],
   "source": [
    "# importing importent libraries\n",
    "import pandas as pd\n",
    "import numpy as np\n",
    "import seaborn as sns\n",
    "import statsmodels.api as sm\n",
    "import statsmodels.discrete.discrete_model as dm\n",
    "from sklearn.metrics import confusion_matrix, accuracy_score, roc_auc_score\n",
    "from sklearn.metrics import precision_score, recall_score\n",
    "from sklearn.model_selection import train_test_split\n",
    "from sklearn import preprocessing\n",
    "from sklearn.model_selection import GridSearchCV\n",
    "import matplotlib.pyplot as plt\n",
    "from sklearn import metrics"
   ]
  },
  {
   "cell_type": "code",
   "execution_count": 2,
   "id": "97e3fba2",
   "metadata": {},
   "outputs": [],
   "source": [
    "import pandas as pd\n",
    "\n",
    "file_path = r\"E:\\STUDY MATERIAL\\DATA SCIENCE\\machine learning and python\\sydney_rain prediction.xlsx\"\n",
    "df = pd.read_excel(file_path, header=0)\n"
   ]
  },
  {
   "cell_type": "code",
   "execution_count": 3,
   "id": "2ffc9699",
   "metadata": {},
   "outputs": [
    {
     "data": {
      "text/html": [
       "<div>\n",
       "<style scoped>\n",
       "    .dataframe tbody tr th:only-of-type {\n",
       "        vertical-align: middle;\n",
       "    }\n",
       "\n",
       "    .dataframe tbody tr th {\n",
       "        vertical-align: top;\n",
       "    }\n",
       "\n",
       "    .dataframe thead th {\n",
       "        text-align: right;\n",
       "    }\n",
       "</style>\n",
       "<table border=\"1\" class=\"dataframe\">\n",
       "  <thead>\n",
       "    <tr style=\"text-align: right;\">\n",
       "      <th></th>\n",
       "      <th>Date</th>\n",
       "      <th>Location</th>\n",
       "      <th>MinTemp</th>\n",
       "      <th>MaxTemp</th>\n",
       "      <th>Rainfall</th>\n",
       "      <th>Evaporation</th>\n",
       "      <th>Sunshine</th>\n",
       "      <th>Humidity9am</th>\n",
       "      <th>Humidity3pm</th>\n",
       "      <th>Pressure9am</th>\n",
       "      <th>Pressure3pm</th>\n",
       "      <th>Cloud9am</th>\n",
       "      <th>Cloud3pm</th>\n",
       "      <th>Temp9am</th>\n",
       "      <th>Temp3pm</th>\n",
       "      <th>RainToday</th>\n",
       "      <th>RainTomorrow</th>\n",
       "    </tr>\n",
       "  </thead>\n",
       "  <tbody>\n",
       "    <tr>\n",
       "      <th>0</th>\n",
       "      <td>2008-02-01</td>\n",
       "      <td>Sydney</td>\n",
       "      <td>19.5</td>\n",
       "      <td>22.4</td>\n",
       "      <td>15.6</td>\n",
       "      <td>6.2</td>\n",
       "      <td>0.0</td>\n",
       "      <td>92.0</td>\n",
       "      <td>84.0</td>\n",
       "      <td>1017.6</td>\n",
       "      <td>1017.4</td>\n",
       "      <td>8.0</td>\n",
       "      <td>8.0</td>\n",
       "      <td>20.7</td>\n",
       "      <td>20.9</td>\n",
       "      <td>Yes</td>\n",
       "      <td>Yes</td>\n",
       "    </tr>\n",
       "    <tr>\n",
       "      <th>1</th>\n",
       "      <td>2008-02-02</td>\n",
       "      <td>Sydney</td>\n",
       "      <td>19.5</td>\n",
       "      <td>25.6</td>\n",
       "      <td>6.0</td>\n",
       "      <td>3.4</td>\n",
       "      <td>2.7</td>\n",
       "      <td>83.0</td>\n",
       "      <td>73.0</td>\n",
       "      <td>1017.9</td>\n",
       "      <td>1016.4</td>\n",
       "      <td>7.0</td>\n",
       "      <td>7.0</td>\n",
       "      <td>22.4</td>\n",
       "      <td>24.8</td>\n",
       "      <td>Yes</td>\n",
       "      <td>Yes</td>\n",
       "    </tr>\n",
       "    <tr>\n",
       "      <th>2</th>\n",
       "      <td>2008-02-03</td>\n",
       "      <td>Sydney</td>\n",
       "      <td>21.6</td>\n",
       "      <td>24.5</td>\n",
       "      <td>6.6</td>\n",
       "      <td>2.4</td>\n",
       "      <td>0.1</td>\n",
       "      <td>88.0</td>\n",
       "      <td>86.0</td>\n",
       "      <td>1016.7</td>\n",
       "      <td>1015.6</td>\n",
       "      <td>7.0</td>\n",
       "      <td>8.0</td>\n",
       "      <td>23.5</td>\n",
       "      <td>23.0</td>\n",
       "      <td>Yes</td>\n",
       "      <td>Yes</td>\n",
       "    </tr>\n",
       "    <tr>\n",
       "      <th>3</th>\n",
       "      <td>2008-02-04</td>\n",
       "      <td>Sydney</td>\n",
       "      <td>20.2</td>\n",
       "      <td>22.8</td>\n",
       "      <td>18.8</td>\n",
       "      <td>2.2</td>\n",
       "      <td>0.0</td>\n",
       "      <td>83.0</td>\n",
       "      <td>90.0</td>\n",
       "      <td>1014.2</td>\n",
       "      <td>1011.8</td>\n",
       "      <td>8.0</td>\n",
       "      <td>8.0</td>\n",
       "      <td>21.4</td>\n",
       "      <td>20.9</td>\n",
       "      <td>Yes</td>\n",
       "      <td>Yes</td>\n",
       "    </tr>\n",
       "    <tr>\n",
       "      <th>4</th>\n",
       "      <td>2008-02-05</td>\n",
       "      <td>Sydney</td>\n",
       "      <td>19.7</td>\n",
       "      <td>25.7</td>\n",
       "      <td>77.4</td>\n",
       "      <td>NaN</td>\n",
       "      <td>0.0</td>\n",
       "      <td>88.0</td>\n",
       "      <td>74.0</td>\n",
       "      <td>1008.3</td>\n",
       "      <td>1004.8</td>\n",
       "      <td>8.0</td>\n",
       "      <td>8.0</td>\n",
       "      <td>22.5</td>\n",
       "      <td>25.5</td>\n",
       "      <td>Yes</td>\n",
       "      <td>Yes</td>\n",
       "    </tr>\n",
       "  </tbody>\n",
       "</table>\n",
       "</div>"
      ],
      "text/plain": [
       "        Date Location  MinTemp  MaxTemp  Rainfall  Evaporation  Sunshine  \\\n",
       "0 2008-02-01   Sydney     19.5     22.4      15.6          6.2       0.0   \n",
       "1 2008-02-02   Sydney     19.5     25.6       6.0          3.4       2.7   \n",
       "2 2008-02-03   Sydney     21.6     24.5       6.6          2.4       0.1   \n",
       "3 2008-02-04   Sydney     20.2     22.8      18.8          2.2       0.0   \n",
       "4 2008-02-05   Sydney     19.7     25.7      77.4          NaN       0.0   \n",
       "\n",
       "   Humidity9am  Humidity3pm  Pressure9am  Pressure3pm  Cloud9am  Cloud3pm  \\\n",
       "0         92.0         84.0       1017.6       1017.4       8.0       8.0   \n",
       "1         83.0         73.0       1017.9       1016.4       7.0       7.0   \n",
       "2         88.0         86.0       1016.7       1015.6       7.0       8.0   \n",
       "3         83.0         90.0       1014.2       1011.8       8.0       8.0   \n",
       "4         88.0         74.0       1008.3       1004.8       8.0       8.0   \n",
       "\n",
       "   Temp9am  Temp3pm RainToday RainTomorrow  \n",
       "0     20.7     20.9       Yes          Yes  \n",
       "1     22.4     24.8       Yes          Yes  \n",
       "2     23.5     23.0       Yes          Yes  \n",
       "3     21.4     20.9       Yes          Yes  \n",
       "4     22.5     25.5       Yes          Yes  "
      ]
     },
     "execution_count": 3,
     "metadata": {},
     "output_type": "execute_result"
    }
   ],
   "source": [
    "df.head()"
   ]
  },
  {
   "cell_type": "code",
   "execution_count": 4,
   "id": "669c2387",
   "metadata": {},
   "outputs": [
    {
     "data": {
      "text/plain": [
       "(3337, 17)"
      ]
     },
     "execution_count": 4,
     "metadata": {},
     "output_type": "execute_result"
    }
   ],
   "source": [
    "# to get the shape of the data\n",
    "df.shape"
   ]
  },
  {
   "cell_type": "code",
   "execution_count": 5,
   "id": "f38e5f58",
   "metadata": {},
   "outputs": [
    {
     "name": "stdout",
     "output_type": "stream",
     "text": [
      "<class 'pandas.core.frame.DataFrame'>\n",
      "RangeIndex: 3337 entries, 0 to 3336\n",
      "Data columns (total 17 columns):\n",
      " #   Column        Non-Null Count  Dtype         \n",
      "---  ------        --------------  -----         \n",
      " 0   Date          3337 non-null   datetime64[ns]\n",
      " 1   Location      3337 non-null   object        \n",
      " 2   MinTemp       3334 non-null   float64       \n",
      " 3   MaxTemp       3335 non-null   float64       \n",
      " 4   Rainfall      3331 non-null   float64       \n",
      " 5   Evaporation   3286 non-null   float64       \n",
      " 6   Sunshine      3321 non-null   float64       \n",
      " 7   Humidity9am   3323 non-null   float64       \n",
      " 8   Humidity3pm   3324 non-null   float64       \n",
      " 9   Pressure9am   3317 non-null   float64       \n",
      " 10  Pressure3pm   3318 non-null   float64       \n",
      " 11  Cloud9am      2771 non-null   float64       \n",
      " 12  Cloud3pm      2776 non-null   float64       \n",
      " 13  Temp9am       3333 non-null   float64       \n",
      " 14  Temp3pm       3333 non-null   float64       \n",
      " 15  RainToday     3331 non-null   object        \n",
      " 16  RainTomorrow  3337 non-null   object        \n",
      "dtypes: datetime64[ns](1), float64(13), object(3)\n",
      "memory usage: 443.3+ KB\n"
     ]
    }
   ],
   "source": [
    "df.info()"
   ]
  },
  {
   "cell_type": "markdown",
   "id": "eb52f10a",
   "metadata": {},
   "source": [
    "#    DATA PREPROCESSING"
   ]
  },
  {
   "cell_type": "code",
   "execution_count": 6,
   "id": "d524cb49",
   "metadata": {
    "scrolled": true
   },
   "outputs": [
    {
     "data": {
      "text/html": [
       "<div>\n",
       "<style scoped>\n",
       "    .dataframe tbody tr th:only-of-type {\n",
       "        vertical-align: middle;\n",
       "    }\n",
       "\n",
       "    .dataframe tbody tr th {\n",
       "        vertical-align: top;\n",
       "    }\n",
       "\n",
       "    .dataframe thead th {\n",
       "        text-align: right;\n",
       "    }\n",
       "</style>\n",
       "<table border=\"1\" class=\"dataframe\">\n",
       "  <thead>\n",
       "    <tr style=\"text-align: right;\">\n",
       "      <th></th>\n",
       "      <th>Date</th>\n",
       "      <th>MinTemp</th>\n",
       "      <th>MaxTemp</th>\n",
       "      <th>Rainfall</th>\n",
       "      <th>Evaporation</th>\n",
       "      <th>Sunshine</th>\n",
       "      <th>Humidity9am</th>\n",
       "      <th>Humidity3pm</th>\n",
       "      <th>Pressure9am</th>\n",
       "      <th>Pressure3pm</th>\n",
       "      <th>Cloud9am</th>\n",
       "      <th>Cloud3pm</th>\n",
       "      <th>Temp9am</th>\n",
       "      <th>Temp3pm</th>\n",
       "    </tr>\n",
       "  </thead>\n",
       "  <tbody>\n",
       "    <tr>\n",
       "      <th>count</th>\n",
       "      <td>3337</td>\n",
       "      <td>3334.000000</td>\n",
       "      <td>3335.000000</td>\n",
       "      <td>3331.000000</td>\n",
       "      <td>3286.000000</td>\n",
       "      <td>3321.000000</td>\n",
       "      <td>3323.000000</td>\n",
       "      <td>3324.000000</td>\n",
       "      <td>3317.000000</td>\n",
       "      <td>3318.000000</td>\n",
       "      <td>2771.000000</td>\n",
       "      <td>2776.000000</td>\n",
       "      <td>3333.000000</td>\n",
       "      <td>3333.000000</td>\n",
       "    </tr>\n",
       "    <tr>\n",
       "      <th>mean</th>\n",
       "      <td>2012-10-16 01:24:34.737788672</td>\n",
       "      <td>14.865057</td>\n",
       "      <td>23.002339</td>\n",
       "      <td>3.330231</td>\n",
       "      <td>5.187432</td>\n",
       "      <td>7.179374</td>\n",
       "      <td>68.229010</td>\n",
       "      <td>54.699158</td>\n",
       "      <td>1018.346156</td>\n",
       "      <td>1016.018774</td>\n",
       "      <td>4.181523</td>\n",
       "      <td>4.218660</td>\n",
       "      <td>17.819742</td>\n",
       "      <td>21.533333</td>\n",
       "    </tr>\n",
       "    <tr>\n",
       "      <th>min</th>\n",
       "      <td>2008-02-01 00:00:00</td>\n",
       "      <td>4.300000</td>\n",
       "      <td>11.700000</td>\n",
       "      <td>0.000000</td>\n",
       "      <td>0.000000</td>\n",
       "      <td>0.000000</td>\n",
       "      <td>19.000000</td>\n",
       "      <td>10.000000</td>\n",
       "      <td>986.700000</td>\n",
       "      <td>989.800000</td>\n",
       "      <td>0.000000</td>\n",
       "      <td>0.000000</td>\n",
       "      <td>6.400000</td>\n",
       "      <td>10.200000</td>\n",
       "    </tr>\n",
       "    <tr>\n",
       "      <th>25%</th>\n",
       "      <td>2010-05-15 00:00:00</td>\n",
       "      <td>11.000000</td>\n",
       "      <td>19.600000</td>\n",
       "      <td>0.000000</td>\n",
       "      <td>3.200000</td>\n",
       "      <td>4.300000</td>\n",
       "      <td>58.000000</td>\n",
       "      <td>44.000000</td>\n",
       "      <td>1013.700000</td>\n",
       "      <td>1011.300000</td>\n",
       "      <td>1.000000</td>\n",
       "      <td>1.000000</td>\n",
       "      <td>13.800000</td>\n",
       "      <td>18.400000</td>\n",
       "    </tr>\n",
       "    <tr>\n",
       "      <th>50%</th>\n",
       "      <td>2012-09-28 00:00:00</td>\n",
       "      <td>14.900000</td>\n",
       "      <td>22.800000</td>\n",
       "      <td>0.000000</td>\n",
       "      <td>4.800000</td>\n",
       "      <td>8.300000</td>\n",
       "      <td>69.000000</td>\n",
       "      <td>56.000000</td>\n",
       "      <td>1018.600000</td>\n",
       "      <td>1016.300000</td>\n",
       "      <td>5.000000</td>\n",
       "      <td>4.000000</td>\n",
       "      <td>18.200000</td>\n",
       "      <td>21.300000</td>\n",
       "    </tr>\n",
       "    <tr>\n",
       "      <th>75%</th>\n",
       "      <td>2015-03-14 00:00:00</td>\n",
       "      <td>18.700000</td>\n",
       "      <td>26.000000</td>\n",
       "      <td>1.400000</td>\n",
       "      <td>7.000000</td>\n",
       "      <td>10.200000</td>\n",
       "      <td>80.000000</td>\n",
       "      <td>65.000000</td>\n",
       "      <td>1023.100000</td>\n",
       "      <td>1020.800000</td>\n",
       "      <td>7.000000</td>\n",
       "      <td>7.000000</td>\n",
       "      <td>21.700000</td>\n",
       "      <td>24.500000</td>\n",
       "    </tr>\n",
       "    <tr>\n",
       "      <th>max</th>\n",
       "      <td>2017-06-25 00:00:00</td>\n",
       "      <td>27.600000</td>\n",
       "      <td>45.800000</td>\n",
       "      <td>119.400000</td>\n",
       "      <td>18.400000</td>\n",
       "      <td>13.600000</td>\n",
       "      <td>100.000000</td>\n",
       "      <td>99.000000</td>\n",
       "      <td>1039.000000</td>\n",
       "      <td>1036.700000</td>\n",
       "      <td>9.000000</td>\n",
       "      <td>8.000000</td>\n",
       "      <td>36.500000</td>\n",
       "      <td>44.700000</td>\n",
       "    </tr>\n",
       "    <tr>\n",
       "      <th>std</th>\n",
       "      <td>NaN</td>\n",
       "      <td>4.553641</td>\n",
       "      <td>4.494638</td>\n",
       "      <td>9.895172</td>\n",
       "      <td>2.777407</td>\n",
       "      <td>3.810886</td>\n",
       "      <td>15.085355</td>\n",
       "      <td>16.293530</td>\n",
       "      <td>7.021571</td>\n",
       "      <td>7.032211</td>\n",
       "      <td>2.749578</td>\n",
       "      <td>2.641885</td>\n",
       "      <td>4.897177</td>\n",
       "      <td>4.303737</td>\n",
       "    </tr>\n",
       "  </tbody>\n",
       "</table>\n",
       "</div>"
      ],
      "text/plain": [
       "                                Date      MinTemp      MaxTemp     Rainfall  \\\n",
       "count                           3337  3334.000000  3335.000000  3331.000000   \n",
       "mean   2012-10-16 01:24:34.737788672    14.865057    23.002339     3.330231   \n",
       "min              2008-02-01 00:00:00     4.300000    11.700000     0.000000   \n",
       "25%              2010-05-15 00:00:00    11.000000    19.600000     0.000000   \n",
       "50%              2012-09-28 00:00:00    14.900000    22.800000     0.000000   \n",
       "75%              2015-03-14 00:00:00    18.700000    26.000000     1.400000   \n",
       "max              2017-06-25 00:00:00    27.600000    45.800000   119.400000   \n",
       "std                              NaN     4.553641     4.494638     9.895172   \n",
       "\n",
       "       Evaporation     Sunshine  Humidity9am  Humidity3pm  Pressure9am  \\\n",
       "count  3286.000000  3321.000000  3323.000000  3324.000000  3317.000000   \n",
       "mean      5.187432     7.179374    68.229010    54.699158  1018.346156   \n",
       "min       0.000000     0.000000    19.000000    10.000000   986.700000   \n",
       "25%       3.200000     4.300000    58.000000    44.000000  1013.700000   \n",
       "50%       4.800000     8.300000    69.000000    56.000000  1018.600000   \n",
       "75%       7.000000    10.200000    80.000000    65.000000  1023.100000   \n",
       "max      18.400000    13.600000   100.000000    99.000000  1039.000000   \n",
       "std       2.777407     3.810886    15.085355    16.293530     7.021571   \n",
       "\n",
       "       Pressure3pm     Cloud9am     Cloud3pm      Temp9am      Temp3pm  \n",
       "count  3318.000000  2771.000000  2776.000000  3333.000000  3333.000000  \n",
       "mean   1016.018774     4.181523     4.218660    17.819742    21.533333  \n",
       "min     989.800000     0.000000     0.000000     6.400000    10.200000  \n",
       "25%    1011.300000     1.000000     1.000000    13.800000    18.400000  \n",
       "50%    1016.300000     5.000000     4.000000    18.200000    21.300000  \n",
       "75%    1020.800000     7.000000     7.000000    21.700000    24.500000  \n",
       "max    1036.700000     9.000000     8.000000    36.500000    44.700000  \n",
       "std       7.032211     2.749578     2.641885     4.897177     4.303737  "
      ]
     },
     "execution_count": 6,
     "metadata": {},
     "output_type": "execute_result"
    }
   ],
   "source": [
    "# Performing EDD for numerical variables\n",
    "df.describe()"
   ]
  },
  {
   "cell_type": "code",
   "execution_count": 7,
   "id": "c4fd321b",
   "metadata": {},
   "outputs": [
    {
     "data": {
      "text/plain": [
       "Date              0\n",
       "Location          0\n",
       "MinTemp           3\n",
       "MaxTemp           2\n",
       "Rainfall          6\n",
       "Evaporation      51\n",
       "Sunshine         16\n",
       "Humidity9am      14\n",
       "Humidity3pm      13\n",
       "Pressure9am      20\n",
       "Pressure3pm      19\n",
       "Cloud9am        566\n",
       "Cloud3pm        561\n",
       "Temp9am           4\n",
       "Temp3pm           4\n",
       "RainToday         6\n",
       "RainTomorrow      0\n",
       "dtype: int64"
      ]
     },
     "execution_count": 7,
     "metadata": {},
     "output_type": "execute_result"
    }
   ],
   "source": [
    "# CODE TO SUM THE NUMBER OF NULL VALUE IN DF\n",
    "df.isnull().sum()"
   ]
  },
  {
   "cell_type": "code",
   "execution_count": 8,
   "id": "b6fbf5de",
   "metadata": {},
   "outputs": [],
   "source": [
    "# REPLACING NULL VALUES WITH MEAN\n",
    "df['MinTemp']=df['MinTemp'].fillna(df['MinTemp'].mean())\n",
    "df['MaxTemp']=df['MaxTemp'].fillna(df['MaxTemp'].mean())\n",
    "df['Rainfall']=df['Rainfall'].fillna(df['Rainfall'].mean())\n",
    "df['Evaporation']=df['Evaporation'].fillna(df['Evaporation'].mean())\n",
    "df['Sunshine']=df['Sunshine'].fillna(df['Sunshine'].mean())\n",
    "df['Humidity9am']=df['Humidity9am'].fillna(df['Humidity9am'].mean())\n",
    "df['Humidity3pm']=df['Humidity3pm'].fillna(df['Humidity3pm'].mean())\n",
    "df['Pressure9am']=df['Pressure9am'].fillna(df['Pressure9am'].mean())\n",
    "df['Pressure3pm']=df['Pressure3pm'].fillna(df['Pressure3pm'].mean())\n",
    "df['Temp9am']=df['Temp9am'].fillna(df['Temp9am'].mean())\n",
    "df['Temp3pm']=df['Temp3pm'].fillna(df['Temp3pm'].mean())\n",
    "df['Cloud9am']=df['Cloud9am'].fillna(df['Cloud9am'].mean())\n",
    "df['Cloud3pm']=df['Cloud3pm'].fillna(df['Cloud3pm'].mean())"
   ]
  },
  {
   "cell_type": "markdown",
   "id": "33c52358",
   "metadata": {},
   "source": [
    "*For categorical variable RainyToday we need to impute missing values with most frequent value in the column*"
   ]
  },
  {
   "cell_type": "code",
   "execution_count": 9,
   "id": "1cdee793",
   "metadata": {},
   "outputs": [
    {
     "data": {
      "text/plain": [
       "RainToday\n",
       "No     2465\n",
       "Yes     866\n",
       "Name: count, dtype: int64"
      ]
     },
     "execution_count": 9,
     "metadata": {},
     "output_type": "execute_result"
    }
   ],
   "source": [
    "# Counting the most frequent value in the column\n",
    "df['RainToday'].value_counts()"
   ]
  },
  {
   "cell_type": "code",
   "execution_count": 10,
   "id": "66c4969f",
   "metadata": {},
   "outputs": [],
   "source": [
    "# Replacing the NA values with most frequent value\n",
    "df['RainToday']=df['RainToday'].fillna(\"No\")"
   ]
  },
  {
   "cell_type": "code",
   "execution_count": 11,
   "id": "dd5e01ec",
   "metadata": {},
   "outputs": [
    {
     "data": {
      "text/plain": [
       "Date            0\n",
       "Location        0\n",
       "MinTemp         0\n",
       "MaxTemp         0\n",
       "Rainfall        0\n",
       "Evaporation     0\n",
       "Sunshine        0\n",
       "Humidity9am     0\n",
       "Humidity3pm     0\n",
       "Pressure9am     0\n",
       "Pressure3pm     0\n",
       "Cloud9am        0\n",
       "Cloud3pm        0\n",
       "Temp9am         0\n",
       "Temp3pm         0\n",
       "RainToday       0\n",
       "RainTomorrow    0\n",
       "dtype: int64"
      ]
     },
     "execution_count": 11,
     "metadata": {},
     "output_type": "execute_result"
    }
   ],
   "source": [
    "#check again for null values\n",
    "df.isnull().sum()"
   ]
  },
  {
   "cell_type": "code",
   "execution_count": 12,
   "id": "bdf4a468",
   "metadata": {},
   "outputs": [],
   "source": [
    "# Creating dummy variable RainToday and RainTomorrow column using getdummies function\n",
    "df = pd.get_dummies(df, columns = ['RainToday', 'RainTomorrow'], drop_first = True)"
   ]
  },
  {
   "cell_type": "code",
   "execution_count": 13,
   "id": "6d4abc2b",
   "metadata": {},
   "outputs": [],
   "source": [
    "# removing location columns as it has a single uniqe value\n",
    "df = df.drop(['Location'], axis=1)"
   ]
  },
  {
   "cell_type": "code",
   "execution_count": 14,
   "id": "bfd68fa2",
   "metadata": {},
   "outputs": [],
   "source": [
    "# removing date columns as it does not effect the model\n",
    "df = df.drop(['Date'], axis=1)"
   ]
  },
  {
   "cell_type": "code",
   "execution_count": 15,
   "id": "60d4be58",
   "metadata": {},
   "outputs": [
    {
     "data": {
      "text/html": [
       "<div>\n",
       "<style scoped>\n",
       "    .dataframe tbody tr th:only-of-type {\n",
       "        vertical-align: middle;\n",
       "    }\n",
       "\n",
       "    .dataframe tbody tr th {\n",
       "        vertical-align: top;\n",
       "    }\n",
       "\n",
       "    .dataframe thead th {\n",
       "        text-align: right;\n",
       "    }\n",
       "</style>\n",
       "<table border=\"1\" class=\"dataframe\">\n",
       "  <thead>\n",
       "    <tr style=\"text-align: right;\">\n",
       "      <th></th>\n",
       "      <th>MinTemp</th>\n",
       "      <th>MaxTemp</th>\n",
       "      <th>Rainfall</th>\n",
       "      <th>Evaporation</th>\n",
       "      <th>Sunshine</th>\n",
       "      <th>Humidity9am</th>\n",
       "      <th>Humidity3pm</th>\n",
       "      <th>Pressure9am</th>\n",
       "      <th>Pressure3pm</th>\n",
       "      <th>Cloud9am</th>\n",
       "      <th>Cloud3pm</th>\n",
       "      <th>Temp9am</th>\n",
       "      <th>Temp3pm</th>\n",
       "      <th>RainToday_Yes</th>\n",
       "      <th>RainTomorrow_Yes</th>\n",
       "    </tr>\n",
       "  </thead>\n",
       "  <tbody>\n",
       "    <tr>\n",
       "      <th>0</th>\n",
       "      <td>19.5</td>\n",
       "      <td>22.4</td>\n",
       "      <td>15.6</td>\n",
       "      <td>6.200000</td>\n",
       "      <td>0.0</td>\n",
       "      <td>92.0</td>\n",
       "      <td>84.0</td>\n",
       "      <td>1017.6</td>\n",
       "      <td>1017.4</td>\n",
       "      <td>8.0</td>\n",
       "      <td>8.0</td>\n",
       "      <td>20.7</td>\n",
       "      <td>20.9</td>\n",
       "      <td>True</td>\n",
       "      <td>True</td>\n",
       "    </tr>\n",
       "    <tr>\n",
       "      <th>1</th>\n",
       "      <td>19.5</td>\n",
       "      <td>25.6</td>\n",
       "      <td>6.0</td>\n",
       "      <td>3.400000</td>\n",
       "      <td>2.7</td>\n",
       "      <td>83.0</td>\n",
       "      <td>73.0</td>\n",
       "      <td>1017.9</td>\n",
       "      <td>1016.4</td>\n",
       "      <td>7.0</td>\n",
       "      <td>7.0</td>\n",
       "      <td>22.4</td>\n",
       "      <td>24.8</td>\n",
       "      <td>True</td>\n",
       "      <td>True</td>\n",
       "    </tr>\n",
       "    <tr>\n",
       "      <th>2</th>\n",
       "      <td>21.6</td>\n",
       "      <td>24.5</td>\n",
       "      <td>6.6</td>\n",
       "      <td>2.400000</td>\n",
       "      <td>0.1</td>\n",
       "      <td>88.0</td>\n",
       "      <td>86.0</td>\n",
       "      <td>1016.7</td>\n",
       "      <td>1015.6</td>\n",
       "      <td>7.0</td>\n",
       "      <td>8.0</td>\n",
       "      <td>23.5</td>\n",
       "      <td>23.0</td>\n",
       "      <td>True</td>\n",
       "      <td>True</td>\n",
       "    </tr>\n",
       "    <tr>\n",
       "      <th>3</th>\n",
       "      <td>20.2</td>\n",
       "      <td>22.8</td>\n",
       "      <td>18.8</td>\n",
       "      <td>2.200000</td>\n",
       "      <td>0.0</td>\n",
       "      <td>83.0</td>\n",
       "      <td>90.0</td>\n",
       "      <td>1014.2</td>\n",
       "      <td>1011.8</td>\n",
       "      <td>8.0</td>\n",
       "      <td>8.0</td>\n",
       "      <td>21.4</td>\n",
       "      <td>20.9</td>\n",
       "      <td>True</td>\n",
       "      <td>True</td>\n",
       "    </tr>\n",
       "    <tr>\n",
       "      <th>4</th>\n",
       "      <td>19.7</td>\n",
       "      <td>25.7</td>\n",
       "      <td>77.4</td>\n",
       "      <td>5.187432</td>\n",
       "      <td>0.0</td>\n",
       "      <td>88.0</td>\n",
       "      <td>74.0</td>\n",
       "      <td>1008.3</td>\n",
       "      <td>1004.8</td>\n",
       "      <td>8.0</td>\n",
       "      <td>8.0</td>\n",
       "      <td>22.5</td>\n",
       "      <td>25.5</td>\n",
       "      <td>True</td>\n",
       "      <td>True</td>\n",
       "    </tr>\n",
       "    <tr>\n",
       "      <th>5</th>\n",
       "      <td>20.2</td>\n",
       "      <td>27.2</td>\n",
       "      <td>1.6</td>\n",
       "      <td>2.600000</td>\n",
       "      <td>8.6</td>\n",
       "      <td>69.0</td>\n",
       "      <td>62.0</td>\n",
       "      <td>1002.7</td>\n",
       "      <td>998.6</td>\n",
       "      <td>6.0</td>\n",
       "      <td>6.0</td>\n",
       "      <td>23.8</td>\n",
       "      <td>26.0</td>\n",
       "      <td>True</td>\n",
       "      <td>True</td>\n",
       "    </tr>\n",
       "    <tr>\n",
       "      <th>6</th>\n",
       "      <td>18.6</td>\n",
       "      <td>26.3</td>\n",
       "      <td>6.2</td>\n",
       "      <td>5.200000</td>\n",
       "      <td>5.2</td>\n",
       "      <td>75.0</td>\n",
       "      <td>80.0</td>\n",
       "      <td>999.0</td>\n",
       "      <td>1000.3</td>\n",
       "      <td>4.0</td>\n",
       "      <td>7.0</td>\n",
       "      <td>21.7</td>\n",
       "      <td>22.3</td>\n",
       "      <td>True</td>\n",
       "      <td>True</td>\n",
       "    </tr>\n",
       "    <tr>\n",
       "      <th>7</th>\n",
       "      <td>17.2</td>\n",
       "      <td>22.3</td>\n",
       "      <td>27.6</td>\n",
       "      <td>5.800000</td>\n",
       "      <td>2.1</td>\n",
       "      <td>77.0</td>\n",
       "      <td>61.0</td>\n",
       "      <td>1008.3</td>\n",
       "      <td>1007.4</td>\n",
       "      <td>7.0</td>\n",
       "      <td>8.0</td>\n",
       "      <td>18.9</td>\n",
       "      <td>21.1</td>\n",
       "      <td>True</td>\n",
       "      <td>True</td>\n",
       "    </tr>\n",
       "    <tr>\n",
       "      <th>8</th>\n",
       "      <td>16.4</td>\n",
       "      <td>20.8</td>\n",
       "      <td>12.6</td>\n",
       "      <td>4.800000</td>\n",
       "      <td>3.0</td>\n",
       "      <td>92.0</td>\n",
       "      <td>91.0</td>\n",
       "      <td>1006.4</td>\n",
       "      <td>1007.6</td>\n",
       "      <td>7.0</td>\n",
       "      <td>7.0</td>\n",
       "      <td>17.1</td>\n",
       "      <td>16.5</td>\n",
       "      <td>True</td>\n",
       "      <td>True</td>\n",
       "    </tr>\n",
       "    <tr>\n",
       "      <th>9</th>\n",
       "      <td>14.6</td>\n",
       "      <td>24.2</td>\n",
       "      <td>8.8</td>\n",
       "      <td>4.400000</td>\n",
       "      <td>10.1</td>\n",
       "      <td>80.0</td>\n",
       "      <td>53.0</td>\n",
       "      <td>1014.0</td>\n",
       "      <td>1013.4</td>\n",
       "      <td>4.0</td>\n",
       "      <td>2.0</td>\n",
       "      <td>17.2</td>\n",
       "      <td>23.3</td>\n",
       "      <td>True</td>\n",
       "      <td>False</td>\n",
       "    </tr>\n",
       "    <tr>\n",
       "      <th>10</th>\n",
       "      <td>16.4</td>\n",
       "      <td>23.9</td>\n",
       "      <td>0.0</td>\n",
       "      <td>6.400000</td>\n",
       "      <td>8.0</td>\n",
       "      <td>78.0</td>\n",
       "      <td>53.0</td>\n",
       "      <td>1017.6</td>\n",
       "      <td>1015.3</td>\n",
       "      <td>7.0</td>\n",
       "      <td>8.0</td>\n",
       "      <td>18.9</td>\n",
       "      <td>23.7</td>\n",
       "      <td>False</td>\n",
       "      <td>False</td>\n",
       "    </tr>\n",
       "    <tr>\n",
       "      <th>11</th>\n",
       "      <td>18.9</td>\n",
       "      <td>27.3</td>\n",
       "      <td>0.0</td>\n",
       "      <td>6.800000</td>\n",
       "      <td>6.7</td>\n",
       "      <td>68.0</td>\n",
       "      <td>67.0</td>\n",
       "      <td>1010.7</td>\n",
       "      <td>1007.5</td>\n",
       "      <td>7.0</td>\n",
       "      <td>7.0</td>\n",
       "      <td>22.9</td>\n",
       "      <td>24.7</td>\n",
       "      <td>False</td>\n",
       "      <td>True</td>\n",
       "    </tr>\n",
       "    <tr>\n",
       "      <th>12</th>\n",
       "      <td>18.4</td>\n",
       "      <td>22.8</td>\n",
       "      <td>14.4</td>\n",
       "      <td>7.000000</td>\n",
       "      <td>3.3</td>\n",
       "      <td>87.0</td>\n",
       "      <td>70.0</td>\n",
       "      <td>1009.2</td>\n",
       "      <td>1011.7</td>\n",
       "      <td>8.0</td>\n",
       "      <td>7.0</td>\n",
       "      <td>20.9</td>\n",
       "      <td>21.0</td>\n",
       "      <td>True</td>\n",
       "      <td>True</td>\n",
       "    </tr>\n",
       "    <tr>\n",
       "      <th>13</th>\n",
       "      <td>16.9</td>\n",
       "      <td>24.3</td>\n",
       "      <td>3.0</td>\n",
       "      <td>3.200000</td>\n",
       "      <td>8.7</td>\n",
       "      <td>81.0</td>\n",
       "      <td>51.0</td>\n",
       "      <td>1017.2</td>\n",
       "      <td>1016.5</td>\n",
       "      <td>7.0</td>\n",
       "      <td>1.0</td>\n",
       "      <td>18.4</td>\n",
       "      <td>23.3</td>\n",
       "      <td>True</td>\n",
       "      <td>False</td>\n",
       "    </tr>\n",
       "    <tr>\n",
       "      <th>14</th>\n",
       "      <td>18.3</td>\n",
       "      <td>24.4</td>\n",
       "      <td>0.0</td>\n",
       "      <td>6.200000</td>\n",
       "      <td>8.5</td>\n",
       "      <td>80.0</td>\n",
       "      <td>56.0</td>\n",
       "      <td>1020.2</td>\n",
       "      <td>1018.9</td>\n",
       "      <td>7.0</td>\n",
       "      <td>3.0</td>\n",
       "      <td>19.5</td>\n",
       "      <td>23.8</td>\n",
       "      <td>False</td>\n",
       "      <td>False</td>\n",
       "    </tr>\n",
       "    <tr>\n",
       "      <th>15</th>\n",
       "      <td>16.7</td>\n",
       "      <td>24.1</td>\n",
       "      <td>0.0</td>\n",
       "      <td>6.200000</td>\n",
       "      <td>8.8</td>\n",
       "      <td>77.0</td>\n",
       "      <td>52.0</td>\n",
       "      <td>1023.0</td>\n",
       "      <td>1022.6</td>\n",
       "      <td>7.0</td>\n",
       "      <td>6.0</td>\n",
       "      <td>19.8</td>\n",
       "      <td>23.3</td>\n",
       "      <td>False</td>\n",
       "      <td>False</td>\n",
       "    </tr>\n",
       "    <tr>\n",
       "      <th>16</th>\n",
       "      <td>19.5</td>\n",
       "      <td>24.8</td>\n",
       "      <td>0.0</td>\n",
       "      <td>7.600000</td>\n",
       "      <td>3.2</td>\n",
       "      <td>63.0</td>\n",
       "      <td>62.0</td>\n",
       "      <td>1024.7</td>\n",
       "      <td>1023.1</td>\n",
       "      <td>7.0</td>\n",
       "      <td>7.0</td>\n",
       "      <td>21.8</td>\n",
       "      <td>23.4</td>\n",
       "      <td>False</td>\n",
       "      <td>False</td>\n",
       "    </tr>\n",
       "    <tr>\n",
       "      <th>17</th>\n",
       "      <td>18.6</td>\n",
       "      <td>25.3</td>\n",
       "      <td>0.0</td>\n",
       "      <td>4.200000</td>\n",
       "      <td>4.5</td>\n",
       "      <td>70.0</td>\n",
       "      <td>59.0</td>\n",
       "      <td>1021.7</td>\n",
       "      <td>1019.4</td>\n",
       "      <td>7.0</td>\n",
       "      <td>6.0</td>\n",
       "      <td>21.2</td>\n",
       "      <td>23.8</td>\n",
       "      <td>False</td>\n",
       "      <td>False</td>\n",
       "    </tr>\n",
       "    <tr>\n",
       "      <th>18</th>\n",
       "      <td>19.0</td>\n",
       "      <td>24.8</td>\n",
       "      <td>0.0</td>\n",
       "      <td>5.200000</td>\n",
       "      <td>7.5</td>\n",
       "      <td>79.0</td>\n",
       "      <td>65.0</td>\n",
       "      <td>1018.0</td>\n",
       "      <td>1015.4</td>\n",
       "      <td>7.0</td>\n",
       "      <td>7.0</td>\n",
       "      <td>20.8</td>\n",
       "      <td>23.4</td>\n",
       "      <td>False</td>\n",
       "      <td>False</td>\n",
       "    </tr>\n",
       "    <tr>\n",
       "      <th>19</th>\n",
       "      <td>18.3</td>\n",
       "      <td>26.4</td>\n",
       "      <td>0.0</td>\n",
       "      <td>4.600000</td>\n",
       "      <td>11.1</td>\n",
       "      <td>80.0</td>\n",
       "      <td>60.0</td>\n",
       "      <td>1013.4</td>\n",
       "      <td>1010.8</td>\n",
       "      <td>3.0</td>\n",
       "      <td>1.0</td>\n",
       "      <td>21.3</td>\n",
       "      <td>25.2</td>\n",
       "      <td>False</td>\n",
       "      <td>False</td>\n",
       "    </tr>\n",
       "  </tbody>\n",
       "</table>\n",
       "</div>"
      ],
      "text/plain": [
       "    MinTemp  MaxTemp  Rainfall  Evaporation  Sunshine  Humidity9am  \\\n",
       "0      19.5     22.4      15.6     6.200000       0.0         92.0   \n",
       "1      19.5     25.6       6.0     3.400000       2.7         83.0   \n",
       "2      21.6     24.5       6.6     2.400000       0.1         88.0   \n",
       "3      20.2     22.8      18.8     2.200000       0.0         83.0   \n",
       "4      19.7     25.7      77.4     5.187432       0.0         88.0   \n",
       "5      20.2     27.2       1.6     2.600000       8.6         69.0   \n",
       "6      18.6     26.3       6.2     5.200000       5.2         75.0   \n",
       "7      17.2     22.3      27.6     5.800000       2.1         77.0   \n",
       "8      16.4     20.8      12.6     4.800000       3.0         92.0   \n",
       "9      14.6     24.2       8.8     4.400000      10.1         80.0   \n",
       "10     16.4     23.9       0.0     6.400000       8.0         78.0   \n",
       "11     18.9     27.3       0.0     6.800000       6.7         68.0   \n",
       "12     18.4     22.8      14.4     7.000000       3.3         87.0   \n",
       "13     16.9     24.3       3.0     3.200000       8.7         81.0   \n",
       "14     18.3     24.4       0.0     6.200000       8.5         80.0   \n",
       "15     16.7     24.1       0.0     6.200000       8.8         77.0   \n",
       "16     19.5     24.8       0.0     7.600000       3.2         63.0   \n",
       "17     18.6     25.3       0.0     4.200000       4.5         70.0   \n",
       "18     19.0     24.8       0.0     5.200000       7.5         79.0   \n",
       "19     18.3     26.4       0.0     4.600000      11.1         80.0   \n",
       "\n",
       "    Humidity3pm  Pressure9am  Pressure3pm  Cloud9am  Cloud3pm  Temp9am  \\\n",
       "0          84.0       1017.6       1017.4       8.0       8.0     20.7   \n",
       "1          73.0       1017.9       1016.4       7.0       7.0     22.4   \n",
       "2          86.0       1016.7       1015.6       7.0       8.0     23.5   \n",
       "3          90.0       1014.2       1011.8       8.0       8.0     21.4   \n",
       "4          74.0       1008.3       1004.8       8.0       8.0     22.5   \n",
       "5          62.0       1002.7        998.6       6.0       6.0     23.8   \n",
       "6          80.0        999.0       1000.3       4.0       7.0     21.7   \n",
       "7          61.0       1008.3       1007.4       7.0       8.0     18.9   \n",
       "8          91.0       1006.4       1007.6       7.0       7.0     17.1   \n",
       "9          53.0       1014.0       1013.4       4.0       2.0     17.2   \n",
       "10         53.0       1017.6       1015.3       7.0       8.0     18.9   \n",
       "11         67.0       1010.7       1007.5       7.0       7.0     22.9   \n",
       "12         70.0       1009.2       1011.7       8.0       7.0     20.9   \n",
       "13         51.0       1017.2       1016.5       7.0       1.0     18.4   \n",
       "14         56.0       1020.2       1018.9       7.0       3.0     19.5   \n",
       "15         52.0       1023.0       1022.6       7.0       6.0     19.8   \n",
       "16         62.0       1024.7       1023.1       7.0       7.0     21.8   \n",
       "17         59.0       1021.7       1019.4       7.0       6.0     21.2   \n",
       "18         65.0       1018.0       1015.4       7.0       7.0     20.8   \n",
       "19         60.0       1013.4       1010.8       3.0       1.0     21.3   \n",
       "\n",
       "    Temp3pm  RainToday_Yes  RainTomorrow_Yes  \n",
       "0      20.9           True              True  \n",
       "1      24.8           True              True  \n",
       "2      23.0           True              True  \n",
       "3      20.9           True              True  \n",
       "4      25.5           True              True  \n",
       "5      26.0           True              True  \n",
       "6      22.3           True              True  \n",
       "7      21.1           True              True  \n",
       "8      16.5           True              True  \n",
       "9      23.3           True             False  \n",
       "10     23.7          False             False  \n",
       "11     24.7          False              True  \n",
       "12     21.0           True              True  \n",
       "13     23.3           True             False  \n",
       "14     23.8          False             False  \n",
       "15     23.3          False             False  \n",
       "16     23.4          False             False  \n",
       "17     23.8          False             False  \n",
       "18     23.4          False             False  \n",
       "19     25.2          False             False  "
      ]
     },
     "execution_count": 15,
     "metadata": {},
     "output_type": "execute_result"
    }
   ],
   "source": [
    "df.head(20)"
   ]
  },
  {
   "cell_type": "code",
   "execution_count": 16,
   "id": "cab57cc1",
   "metadata": {},
   "outputs": [],
   "source": [
    "df = df.astype({\"RainToday_Yes\":\"int\", \"RainTomorrow_Yes\":\"int\"})"
   ]
  },
  {
   "cell_type": "code",
   "execution_count": 17,
   "id": "398b2387",
   "metadata": {},
   "outputs": [
    {
     "data": {
      "text/html": [
       "<div>\n",
       "<style scoped>\n",
       "    .dataframe tbody tr th:only-of-type {\n",
       "        vertical-align: middle;\n",
       "    }\n",
       "\n",
       "    .dataframe tbody tr th {\n",
       "        vertical-align: top;\n",
       "    }\n",
       "\n",
       "    .dataframe thead th {\n",
       "        text-align: right;\n",
       "    }\n",
       "</style>\n",
       "<table border=\"1\" class=\"dataframe\">\n",
       "  <thead>\n",
       "    <tr style=\"text-align: right;\">\n",
       "      <th></th>\n",
       "      <th>MinTemp</th>\n",
       "      <th>MaxTemp</th>\n",
       "      <th>Rainfall</th>\n",
       "      <th>Evaporation</th>\n",
       "      <th>Sunshine</th>\n",
       "      <th>Humidity9am</th>\n",
       "      <th>Humidity3pm</th>\n",
       "      <th>Pressure9am</th>\n",
       "      <th>Pressure3pm</th>\n",
       "      <th>Cloud9am</th>\n",
       "      <th>Cloud3pm</th>\n",
       "      <th>Temp9am</th>\n",
       "      <th>Temp3pm</th>\n",
       "      <th>RainToday_Yes</th>\n",
       "      <th>RainTomorrow_Yes</th>\n",
       "    </tr>\n",
       "  </thead>\n",
       "  <tbody>\n",
       "    <tr>\n",
       "      <th>0</th>\n",
       "      <td>19.5</td>\n",
       "      <td>22.4</td>\n",
       "      <td>15.6</td>\n",
       "      <td>6.200000</td>\n",
       "      <td>0.0</td>\n",
       "      <td>92.0</td>\n",
       "      <td>84.0</td>\n",
       "      <td>1017.6</td>\n",
       "      <td>1017.4</td>\n",
       "      <td>8.0</td>\n",
       "      <td>8.0</td>\n",
       "      <td>20.7</td>\n",
       "      <td>20.9</td>\n",
       "      <td>1</td>\n",
       "      <td>1</td>\n",
       "    </tr>\n",
       "    <tr>\n",
       "      <th>1</th>\n",
       "      <td>19.5</td>\n",
       "      <td>25.6</td>\n",
       "      <td>6.0</td>\n",
       "      <td>3.400000</td>\n",
       "      <td>2.7</td>\n",
       "      <td>83.0</td>\n",
       "      <td>73.0</td>\n",
       "      <td>1017.9</td>\n",
       "      <td>1016.4</td>\n",
       "      <td>7.0</td>\n",
       "      <td>7.0</td>\n",
       "      <td>22.4</td>\n",
       "      <td>24.8</td>\n",
       "      <td>1</td>\n",
       "      <td>1</td>\n",
       "    </tr>\n",
       "    <tr>\n",
       "      <th>2</th>\n",
       "      <td>21.6</td>\n",
       "      <td>24.5</td>\n",
       "      <td>6.6</td>\n",
       "      <td>2.400000</td>\n",
       "      <td>0.1</td>\n",
       "      <td>88.0</td>\n",
       "      <td>86.0</td>\n",
       "      <td>1016.7</td>\n",
       "      <td>1015.6</td>\n",
       "      <td>7.0</td>\n",
       "      <td>8.0</td>\n",
       "      <td>23.5</td>\n",
       "      <td>23.0</td>\n",
       "      <td>1</td>\n",
       "      <td>1</td>\n",
       "    </tr>\n",
       "    <tr>\n",
       "      <th>3</th>\n",
       "      <td>20.2</td>\n",
       "      <td>22.8</td>\n",
       "      <td>18.8</td>\n",
       "      <td>2.200000</td>\n",
       "      <td>0.0</td>\n",
       "      <td>83.0</td>\n",
       "      <td>90.0</td>\n",
       "      <td>1014.2</td>\n",
       "      <td>1011.8</td>\n",
       "      <td>8.0</td>\n",
       "      <td>8.0</td>\n",
       "      <td>21.4</td>\n",
       "      <td>20.9</td>\n",
       "      <td>1</td>\n",
       "      <td>1</td>\n",
       "    </tr>\n",
       "    <tr>\n",
       "      <th>4</th>\n",
       "      <td>19.7</td>\n",
       "      <td>25.7</td>\n",
       "      <td>77.4</td>\n",
       "      <td>5.187432</td>\n",
       "      <td>0.0</td>\n",
       "      <td>88.0</td>\n",
       "      <td>74.0</td>\n",
       "      <td>1008.3</td>\n",
       "      <td>1004.8</td>\n",
       "      <td>8.0</td>\n",
       "      <td>8.0</td>\n",
       "      <td>22.5</td>\n",
       "      <td>25.5</td>\n",
       "      <td>1</td>\n",
       "      <td>1</td>\n",
       "    </tr>\n",
       "    <tr>\n",
       "      <th>5</th>\n",
       "      <td>20.2</td>\n",
       "      <td>27.2</td>\n",
       "      <td>1.6</td>\n",
       "      <td>2.600000</td>\n",
       "      <td>8.6</td>\n",
       "      <td>69.0</td>\n",
       "      <td>62.0</td>\n",
       "      <td>1002.7</td>\n",
       "      <td>998.6</td>\n",
       "      <td>6.0</td>\n",
       "      <td>6.0</td>\n",
       "      <td>23.8</td>\n",
       "      <td>26.0</td>\n",
       "      <td>1</td>\n",
       "      <td>1</td>\n",
       "    </tr>\n",
       "    <tr>\n",
       "      <th>6</th>\n",
       "      <td>18.6</td>\n",
       "      <td>26.3</td>\n",
       "      <td>6.2</td>\n",
       "      <td>5.200000</td>\n",
       "      <td>5.2</td>\n",
       "      <td>75.0</td>\n",
       "      <td>80.0</td>\n",
       "      <td>999.0</td>\n",
       "      <td>1000.3</td>\n",
       "      <td>4.0</td>\n",
       "      <td>7.0</td>\n",
       "      <td>21.7</td>\n",
       "      <td>22.3</td>\n",
       "      <td>1</td>\n",
       "      <td>1</td>\n",
       "    </tr>\n",
       "    <tr>\n",
       "      <th>7</th>\n",
       "      <td>17.2</td>\n",
       "      <td>22.3</td>\n",
       "      <td>27.6</td>\n",
       "      <td>5.800000</td>\n",
       "      <td>2.1</td>\n",
       "      <td>77.0</td>\n",
       "      <td>61.0</td>\n",
       "      <td>1008.3</td>\n",
       "      <td>1007.4</td>\n",
       "      <td>7.0</td>\n",
       "      <td>8.0</td>\n",
       "      <td>18.9</td>\n",
       "      <td>21.1</td>\n",
       "      <td>1</td>\n",
       "      <td>1</td>\n",
       "    </tr>\n",
       "    <tr>\n",
       "      <th>8</th>\n",
       "      <td>16.4</td>\n",
       "      <td>20.8</td>\n",
       "      <td>12.6</td>\n",
       "      <td>4.800000</td>\n",
       "      <td>3.0</td>\n",
       "      <td>92.0</td>\n",
       "      <td>91.0</td>\n",
       "      <td>1006.4</td>\n",
       "      <td>1007.6</td>\n",
       "      <td>7.0</td>\n",
       "      <td>7.0</td>\n",
       "      <td>17.1</td>\n",
       "      <td>16.5</td>\n",
       "      <td>1</td>\n",
       "      <td>1</td>\n",
       "    </tr>\n",
       "    <tr>\n",
       "      <th>9</th>\n",
       "      <td>14.6</td>\n",
       "      <td>24.2</td>\n",
       "      <td>8.8</td>\n",
       "      <td>4.400000</td>\n",
       "      <td>10.1</td>\n",
       "      <td>80.0</td>\n",
       "      <td>53.0</td>\n",
       "      <td>1014.0</td>\n",
       "      <td>1013.4</td>\n",
       "      <td>4.0</td>\n",
       "      <td>2.0</td>\n",
       "      <td>17.2</td>\n",
       "      <td>23.3</td>\n",
       "      <td>1</td>\n",
       "      <td>0</td>\n",
       "    </tr>\n",
       "    <tr>\n",
       "      <th>10</th>\n",
       "      <td>16.4</td>\n",
       "      <td>23.9</td>\n",
       "      <td>0.0</td>\n",
       "      <td>6.400000</td>\n",
       "      <td>8.0</td>\n",
       "      <td>78.0</td>\n",
       "      <td>53.0</td>\n",
       "      <td>1017.6</td>\n",
       "      <td>1015.3</td>\n",
       "      <td>7.0</td>\n",
       "      <td>8.0</td>\n",
       "      <td>18.9</td>\n",
       "      <td>23.7</td>\n",
       "      <td>0</td>\n",
       "      <td>0</td>\n",
       "    </tr>\n",
       "    <tr>\n",
       "      <th>11</th>\n",
       "      <td>18.9</td>\n",
       "      <td>27.3</td>\n",
       "      <td>0.0</td>\n",
       "      <td>6.800000</td>\n",
       "      <td>6.7</td>\n",
       "      <td>68.0</td>\n",
       "      <td>67.0</td>\n",
       "      <td>1010.7</td>\n",
       "      <td>1007.5</td>\n",
       "      <td>7.0</td>\n",
       "      <td>7.0</td>\n",
       "      <td>22.9</td>\n",
       "      <td>24.7</td>\n",
       "      <td>0</td>\n",
       "      <td>1</td>\n",
       "    </tr>\n",
       "    <tr>\n",
       "      <th>12</th>\n",
       "      <td>18.4</td>\n",
       "      <td>22.8</td>\n",
       "      <td>14.4</td>\n",
       "      <td>7.000000</td>\n",
       "      <td>3.3</td>\n",
       "      <td>87.0</td>\n",
       "      <td>70.0</td>\n",
       "      <td>1009.2</td>\n",
       "      <td>1011.7</td>\n",
       "      <td>8.0</td>\n",
       "      <td>7.0</td>\n",
       "      <td>20.9</td>\n",
       "      <td>21.0</td>\n",
       "      <td>1</td>\n",
       "      <td>1</td>\n",
       "    </tr>\n",
       "    <tr>\n",
       "      <th>13</th>\n",
       "      <td>16.9</td>\n",
       "      <td>24.3</td>\n",
       "      <td>3.0</td>\n",
       "      <td>3.200000</td>\n",
       "      <td>8.7</td>\n",
       "      <td>81.0</td>\n",
       "      <td>51.0</td>\n",
       "      <td>1017.2</td>\n",
       "      <td>1016.5</td>\n",
       "      <td>7.0</td>\n",
       "      <td>1.0</td>\n",
       "      <td>18.4</td>\n",
       "      <td>23.3</td>\n",
       "      <td>1</td>\n",
       "      <td>0</td>\n",
       "    </tr>\n",
       "    <tr>\n",
       "      <th>14</th>\n",
       "      <td>18.3</td>\n",
       "      <td>24.4</td>\n",
       "      <td>0.0</td>\n",
       "      <td>6.200000</td>\n",
       "      <td>8.5</td>\n",
       "      <td>80.0</td>\n",
       "      <td>56.0</td>\n",
       "      <td>1020.2</td>\n",
       "      <td>1018.9</td>\n",
       "      <td>7.0</td>\n",
       "      <td>3.0</td>\n",
       "      <td>19.5</td>\n",
       "      <td>23.8</td>\n",
       "      <td>0</td>\n",
       "      <td>0</td>\n",
       "    </tr>\n",
       "    <tr>\n",
       "      <th>15</th>\n",
       "      <td>16.7</td>\n",
       "      <td>24.1</td>\n",
       "      <td>0.0</td>\n",
       "      <td>6.200000</td>\n",
       "      <td>8.8</td>\n",
       "      <td>77.0</td>\n",
       "      <td>52.0</td>\n",
       "      <td>1023.0</td>\n",
       "      <td>1022.6</td>\n",
       "      <td>7.0</td>\n",
       "      <td>6.0</td>\n",
       "      <td>19.8</td>\n",
       "      <td>23.3</td>\n",
       "      <td>0</td>\n",
       "      <td>0</td>\n",
       "    </tr>\n",
       "    <tr>\n",
       "      <th>16</th>\n",
       "      <td>19.5</td>\n",
       "      <td>24.8</td>\n",
       "      <td>0.0</td>\n",
       "      <td>7.600000</td>\n",
       "      <td>3.2</td>\n",
       "      <td>63.0</td>\n",
       "      <td>62.0</td>\n",
       "      <td>1024.7</td>\n",
       "      <td>1023.1</td>\n",
       "      <td>7.0</td>\n",
       "      <td>7.0</td>\n",
       "      <td>21.8</td>\n",
       "      <td>23.4</td>\n",
       "      <td>0</td>\n",
       "      <td>0</td>\n",
       "    </tr>\n",
       "    <tr>\n",
       "      <th>17</th>\n",
       "      <td>18.6</td>\n",
       "      <td>25.3</td>\n",
       "      <td>0.0</td>\n",
       "      <td>4.200000</td>\n",
       "      <td>4.5</td>\n",
       "      <td>70.0</td>\n",
       "      <td>59.0</td>\n",
       "      <td>1021.7</td>\n",
       "      <td>1019.4</td>\n",
       "      <td>7.0</td>\n",
       "      <td>6.0</td>\n",
       "      <td>21.2</td>\n",
       "      <td>23.8</td>\n",
       "      <td>0</td>\n",
       "      <td>0</td>\n",
       "    </tr>\n",
       "    <tr>\n",
       "      <th>18</th>\n",
       "      <td>19.0</td>\n",
       "      <td>24.8</td>\n",
       "      <td>0.0</td>\n",
       "      <td>5.200000</td>\n",
       "      <td>7.5</td>\n",
       "      <td>79.0</td>\n",
       "      <td>65.0</td>\n",
       "      <td>1018.0</td>\n",
       "      <td>1015.4</td>\n",
       "      <td>7.0</td>\n",
       "      <td>7.0</td>\n",
       "      <td>20.8</td>\n",
       "      <td>23.4</td>\n",
       "      <td>0</td>\n",
       "      <td>0</td>\n",
       "    </tr>\n",
       "    <tr>\n",
       "      <th>19</th>\n",
       "      <td>18.3</td>\n",
       "      <td>26.4</td>\n",
       "      <td>0.0</td>\n",
       "      <td>4.600000</td>\n",
       "      <td>11.1</td>\n",
       "      <td>80.0</td>\n",
       "      <td>60.0</td>\n",
       "      <td>1013.4</td>\n",
       "      <td>1010.8</td>\n",
       "      <td>3.0</td>\n",
       "      <td>1.0</td>\n",
       "      <td>21.3</td>\n",
       "      <td>25.2</td>\n",
       "      <td>0</td>\n",
       "      <td>0</td>\n",
       "    </tr>\n",
       "  </tbody>\n",
       "</table>\n",
       "</div>"
      ],
      "text/plain": [
       "    MinTemp  MaxTemp  Rainfall  Evaporation  Sunshine  Humidity9am  \\\n",
       "0      19.5     22.4      15.6     6.200000       0.0         92.0   \n",
       "1      19.5     25.6       6.0     3.400000       2.7         83.0   \n",
       "2      21.6     24.5       6.6     2.400000       0.1         88.0   \n",
       "3      20.2     22.8      18.8     2.200000       0.0         83.0   \n",
       "4      19.7     25.7      77.4     5.187432       0.0         88.0   \n",
       "5      20.2     27.2       1.6     2.600000       8.6         69.0   \n",
       "6      18.6     26.3       6.2     5.200000       5.2         75.0   \n",
       "7      17.2     22.3      27.6     5.800000       2.1         77.0   \n",
       "8      16.4     20.8      12.6     4.800000       3.0         92.0   \n",
       "9      14.6     24.2       8.8     4.400000      10.1         80.0   \n",
       "10     16.4     23.9       0.0     6.400000       8.0         78.0   \n",
       "11     18.9     27.3       0.0     6.800000       6.7         68.0   \n",
       "12     18.4     22.8      14.4     7.000000       3.3         87.0   \n",
       "13     16.9     24.3       3.0     3.200000       8.7         81.0   \n",
       "14     18.3     24.4       0.0     6.200000       8.5         80.0   \n",
       "15     16.7     24.1       0.0     6.200000       8.8         77.0   \n",
       "16     19.5     24.8       0.0     7.600000       3.2         63.0   \n",
       "17     18.6     25.3       0.0     4.200000       4.5         70.0   \n",
       "18     19.0     24.8       0.0     5.200000       7.5         79.0   \n",
       "19     18.3     26.4       0.0     4.600000      11.1         80.0   \n",
       "\n",
       "    Humidity3pm  Pressure9am  Pressure3pm  Cloud9am  Cloud3pm  Temp9am  \\\n",
       "0          84.0       1017.6       1017.4       8.0       8.0     20.7   \n",
       "1          73.0       1017.9       1016.4       7.0       7.0     22.4   \n",
       "2          86.0       1016.7       1015.6       7.0       8.0     23.5   \n",
       "3          90.0       1014.2       1011.8       8.0       8.0     21.4   \n",
       "4          74.0       1008.3       1004.8       8.0       8.0     22.5   \n",
       "5          62.0       1002.7        998.6       6.0       6.0     23.8   \n",
       "6          80.0        999.0       1000.3       4.0       7.0     21.7   \n",
       "7          61.0       1008.3       1007.4       7.0       8.0     18.9   \n",
       "8          91.0       1006.4       1007.6       7.0       7.0     17.1   \n",
       "9          53.0       1014.0       1013.4       4.0       2.0     17.2   \n",
       "10         53.0       1017.6       1015.3       7.0       8.0     18.9   \n",
       "11         67.0       1010.7       1007.5       7.0       7.0     22.9   \n",
       "12         70.0       1009.2       1011.7       8.0       7.0     20.9   \n",
       "13         51.0       1017.2       1016.5       7.0       1.0     18.4   \n",
       "14         56.0       1020.2       1018.9       7.0       3.0     19.5   \n",
       "15         52.0       1023.0       1022.6       7.0       6.0     19.8   \n",
       "16         62.0       1024.7       1023.1       7.0       7.0     21.8   \n",
       "17         59.0       1021.7       1019.4       7.0       6.0     21.2   \n",
       "18         65.0       1018.0       1015.4       7.0       7.0     20.8   \n",
       "19         60.0       1013.4       1010.8       3.0       1.0     21.3   \n",
       "\n",
       "    Temp3pm  RainToday_Yes  RainTomorrow_Yes  \n",
       "0      20.9              1                 1  \n",
       "1      24.8              1                 1  \n",
       "2      23.0              1                 1  \n",
       "3      20.9              1                 1  \n",
       "4      25.5              1                 1  \n",
       "5      26.0              1                 1  \n",
       "6      22.3              1                 1  \n",
       "7      21.1              1                 1  \n",
       "8      16.5              1                 1  \n",
       "9      23.3              1                 0  \n",
       "10     23.7              0                 0  \n",
       "11     24.7              0                 1  \n",
       "12     21.0              1                 1  \n",
       "13     23.3              1                 0  \n",
       "14     23.8              0                 0  \n",
       "15     23.3              0                 0  \n",
       "16     23.4              0                 0  \n",
       "17     23.8              0                 0  \n",
       "18     23.4              0                 0  \n",
       "19     25.2              0                 0  "
      ]
     },
     "execution_count": 17,
     "metadata": {},
     "output_type": "execute_result"
    }
   ],
   "source": [
    "df.head(20)"
   ]
  },
  {
   "cell_type": "code",
   "execution_count": 18,
   "id": "5fd48944",
   "metadata": {},
   "outputs": [
    {
     "data": {
      "image/png": "[encoded data removed]",
      "text/plain": [
       "<Figure size 1600x1200 with 15 Axes>"
      ]
     },
     "metadata": {},
     "output_type": "display_data"
    }
   ],
   "source": [
    "#CODE FOR CREATING BOX PLOT\n",
    "\n",
    "import matplotlib.pyplot as plt\n",
    "import seaborn as sns\n",
    "\n",
    "# Select numeric columns for box plots\n",
    "numeric_cols = df.select_dtypes(include='number').columns\n",
    "\n",
    "# Create box plots for each numeric column\n",
    "plt.figure(figsize=(16, 12))\n",
    "for i, col in enumerate(numeric_cols, 1):\n",
    "    plt.subplot(4, 4, i)\n",
    "    sns.boxplot(x=df[col])\n",
    "    plt.title(f'Box Plot for {col}')\n",
    "\n",
    "plt.tight_layout()\n",
    "plt.show()\n"
   ]
  },
  {
   "cell_type": "markdown",
   "id": "7fff3bd7",
   "metadata": {},
   "source": [
    "- now we will treat the outliners as seen from box plot\n"
   ]
  },
  {
   "cell_type": "markdown",
   "id": "17576d20",
   "metadata": {},
   "source": [
    "**TREATING OUTLINERS THROUGH IQR**"
   ]
  },
  {
   "cell_type": "code",
   "execution_count": 19,
   "id": "85f05374",
   "metadata": {},
   "outputs": [],
   "source": [
    "q1 = df['MaxTemp'].quantile(0.25)\n",
    "q3 = df['MaxTemp'].quantile(0.75)\n",
    "iqr = q3 - q1\n",
    "\n",
    "# Define lower and upper bounds for capping\n",
    "lower_bound = q1 - 1.5 * iqr\n",
    "upper_bound = q3 + 1.5 * iqr\n",
    "\n",
    "# Cap outliers\n",
    "df['MaxTemp'] = np.where(df['MaxTemp'] < lower_bound, lower_bound, df['MaxTemp'])\n",
    "df['MaxTemp'] = np.where(df['MaxTemp'] > upper_bound, upper_bound, df['MaxTemp'])"
   ]
  },
  {
   "cell_type": "code",
   "execution_count": 20,
   "id": "eccbea0e",
   "metadata": {},
   "outputs": [],
   "source": [
    "q1 = df['Rainfall'].quantile(0.25)\n",
    "q3 = df['Rainfall'].quantile(0.75)\n",
    "iqr = q3 - q1\n",
    "\n",
    "# Define lower and upper bounds for capping\n",
    "lower_bound = q1 - 1.5 * iqr\n",
    "upper_bound = q3 + 1.5 * iqr\n",
    "\n",
    "# Cap outliers\n",
    "df['Rainfall'] = np.where(df['Rainfall'] < lower_bound, lower_bound, df['Rainfall'])\n",
    "df['Rainfall'] = np.where(df['Rainfall'] > upper_bound, upper_bound, df['Rainfall'])"
   ]
  },
  {
   "cell_type": "code",
   "execution_count": 21,
   "id": "0f31d6ba",
   "metadata": {},
   "outputs": [],
   "source": [
    "q1 = df['Evaporation'].quantile(0.25)\n",
    "q3 = df['Evaporation'].quantile(0.75)\n",
    "iqr = q3 - q1\n",
    "\n",
    "# Define lower and upper bounds for capping\n",
    "lower_bound = q1 - 1.5 * iqr\n",
    "upper_bound = q3 + 1.5 * iqr\n",
    "\n",
    "# Cap outliers\n",
    "df['Evaporation'] = np.where(df['Evaporation'] < lower_bound, lower_bound, df['Evaporation'])\n",
    "df['Evaporation'] = np.where(df['Evaporation'] > upper_bound, upper_bound, df['Evaporation'])"
   ]
  },
  {
   "cell_type": "code",
   "execution_count": 22,
   "id": "40fb4a2f",
   "metadata": {},
   "outputs": [],
   "source": [
    "q1 = df['Humidity9am'].quantile(0.25)\n",
    "q3 = df['Humidity9am'].quantile(0.75)\n",
    "iqr = q3 - q1\n",
    "\n",
    "# Define lower and upper bounds for capping\n",
    "lower_bound = q1 - 1.5 * iqr\n",
    "upper_bound = q3 + 1.5 * iqr\n",
    "\n",
    "# Cap outliers\n",
    "df['Humidity9am'] = np.where(df['Humidity9am'] < lower_bound, lower_bound, df['Humidity9am'])\n",
    "df['Humidity9am'] = np.where(df['Humidity9am'] > upper_bound, upper_bound, df['Humidity9am'])"
   ]
  },
  {
   "cell_type": "code",
   "execution_count": 23,
   "id": "71b1ff9a",
   "metadata": {},
   "outputs": [],
   "source": [
    "q1 = df['Humidity3pm'].quantile(0.25)\n",
    "q3 = df['Humidity3pm'].quantile(0.75)\n",
    "iqr = q3 - q1\n",
    "\n",
    "# Define lower and upper bounds for capping\n",
    "lower_bound = q1 - 1.5 * iqr\n",
    "upper_bound = q3 + 1.5 * iqr\n",
    "\n",
    "# Cap outliers\n",
    "df['Humidity3pm'] = np.where(df['Humidity3pm'] < lower_bound, lower_bound, df['Humidity3pm'])\n",
    "df['Humidity3pm'] = np.where(df['Humidity3pm'] > upper_bound, upper_bound, df['Humidity3pm'])"
   ]
  },
  {
   "cell_type": "code",
   "execution_count": 24,
   "id": "e7b55722",
   "metadata": {},
   "outputs": [],
   "source": [
    "q1 = df['Temp3pm'].quantile(0.25)\n",
    "q3 = df['Temp3pm'].quantile(0.75)\n",
    "iqr = q3 - q1\n",
    "\n",
    "# Define lower and upper bounds for capping\n",
    "lower_bound = q1 - 1.5 * iqr\n",
    "upper_bound = q3 + 1.5 * iqr\n",
    "\n",
    "# Cap outliers\n",
    "df['Temp3pm'] = np.where(df['Temp3pm'] < lower_bound, lower_bound, df['Temp3pm'])\n",
    "df['Temp3pm'] = np.where(df['Temp3pm'] > upper_bound, upper_bound, df['Temp3pm'])"
   ]
  },
  {
   "cell_type": "code",
   "execution_count": 25,
   "id": "fea9e99e",
   "metadata": {},
   "outputs": [
    {
     "data": {
      "image/png": "[encoded data removed]",
      "text/plain": [
       "<Figure size 1400x600 with 2 Axes>"
      ]
     },
     "metadata": {},
     "output_type": "display_data"
    }
   ],
   "source": [
    "correlation_matrix = df.corr()\n",
    "\n",
    "# Create the heatmap\n",
    "plt.figure(figsize=(14, 6))\n",
    "sns.heatmap(correlation_matrix, cmap='coolwarm', annot=True, fmt=\".2f\", linewidths=0.5)\n",
    "plt.title(\"Correlation Heatmap\")\n",
    "plt.show()"
   ]
  },
  {
   "cell_type": "code",
   "execution_count": 26,
   "id": "76beb609",
   "metadata": {},
   "outputs": [],
   "source": [
    "del df['Temp9am']\n",
    "del df['MaxTemp']\n",
    "del df['Pressure3pm']\n",
    "del df['Pressure9am']\n"
   ]
  },
  {
   "cell_type": "markdown",
   "id": "e59c43e5",
   "metadata": {},
   "source": [
    "# DATA SPLITTING-INDEPENDENT AND DEPENDENT VARIABLE"
   ]
  },
  {
   "cell_type": "code",
   "execution_count": 27,
   "id": "bb8883fe",
   "metadata": {},
   "outputs": [],
   "source": [
    "# Splitting data into X and Y variable independent and dependent respectively.\n",
    "\n",
    "X = df.loc[:, df.columns != \"RainTomorrow_Yes\"]\n",
    "Y = df[\"RainTomorrow_Yes\"]"
   ]
  },
  {
   "cell_type": "code",
   "execution_count": 28,
   "id": "6d2059f9",
   "metadata": {},
   "outputs": [
    {
     "data": {
      "text/html": [
       "<div>\n",
       "<style scoped>\n",
       "    .dataframe tbody tr th:only-of-type {\n",
       "        vertical-align: middle;\n",
       "    }\n",
       "\n",
       "    .dataframe tbody tr th {\n",
       "        vertical-align: top;\n",
       "    }\n",
       "\n",
       "    .dataframe thead th {\n",
       "        text-align: right;\n",
       "    }\n",
       "</style>\n",
       "<table border=\"1\" class=\"dataframe\">\n",
       "  <thead>\n",
       "    <tr style=\"text-align: right;\">\n",
       "      <th></th>\n",
       "      <th>MinTemp</th>\n",
       "      <th>Rainfall</th>\n",
       "      <th>Evaporation</th>\n",
       "      <th>Sunshine</th>\n",
       "      <th>Humidity9am</th>\n",
       "      <th>Humidity3pm</th>\n",
       "      <th>Cloud9am</th>\n",
       "      <th>Cloud3pm</th>\n",
       "      <th>Temp3pm</th>\n",
       "      <th>RainToday_Yes</th>\n",
       "    </tr>\n",
       "  </thead>\n",
       "  <tbody>\n",
       "    <tr>\n",
       "      <th>0</th>\n",
       "      <td>19.5</td>\n",
       "      <td>3.5</td>\n",
       "      <td>6.200000</td>\n",
       "      <td>0.0</td>\n",
       "      <td>92.0</td>\n",
       "      <td>84.0</td>\n",
       "      <td>8.0</td>\n",
       "      <td>8.0</td>\n",
       "      <td>20.9</td>\n",
       "      <td>1</td>\n",
       "    </tr>\n",
       "    <tr>\n",
       "      <th>1</th>\n",
       "      <td>19.5</td>\n",
       "      <td>3.5</td>\n",
       "      <td>3.400000</td>\n",
       "      <td>2.7</td>\n",
       "      <td>83.0</td>\n",
       "      <td>73.0</td>\n",
       "      <td>7.0</td>\n",
       "      <td>7.0</td>\n",
       "      <td>24.8</td>\n",
       "      <td>1</td>\n",
       "    </tr>\n",
       "    <tr>\n",
       "      <th>2</th>\n",
       "      <td>21.6</td>\n",
       "      <td>3.5</td>\n",
       "      <td>2.400000</td>\n",
       "      <td>0.1</td>\n",
       "      <td>88.0</td>\n",
       "      <td>86.0</td>\n",
       "      <td>7.0</td>\n",
       "      <td>8.0</td>\n",
       "      <td>23.0</td>\n",
       "      <td>1</td>\n",
       "    </tr>\n",
       "    <tr>\n",
       "      <th>3</th>\n",
       "      <td>20.2</td>\n",
       "      <td>3.5</td>\n",
       "      <td>2.200000</td>\n",
       "      <td>0.0</td>\n",
       "      <td>83.0</td>\n",
       "      <td>90.0</td>\n",
       "      <td>8.0</td>\n",
       "      <td>8.0</td>\n",
       "      <td>20.9</td>\n",
       "      <td>1</td>\n",
       "    </tr>\n",
       "    <tr>\n",
       "      <th>4</th>\n",
       "      <td>19.7</td>\n",
       "      <td>3.5</td>\n",
       "      <td>5.187432</td>\n",
       "      <td>0.0</td>\n",
       "      <td>88.0</td>\n",
       "      <td>74.0</td>\n",
       "      <td>8.0</td>\n",
       "      <td>8.0</td>\n",
       "      <td>25.5</td>\n",
       "      <td>1</td>\n",
       "    </tr>\n",
       "  </tbody>\n",
       "</table>\n",
       "</div>"
      ],
      "text/plain": [
       "   MinTemp  Rainfall  Evaporation  Sunshine  Humidity9am  Humidity3pm  \\\n",
       "0     19.5       3.5     6.200000       0.0         92.0         84.0   \n",
       "1     19.5       3.5     3.400000       2.7         83.0         73.0   \n",
       "2     21.6       3.5     2.400000       0.1         88.0         86.0   \n",
       "3     20.2       3.5     2.200000       0.0         83.0         90.0   \n",
       "4     19.7       3.5     5.187432       0.0         88.0         74.0   \n",
       "\n",
       "   Cloud9am  Cloud3pm  Temp3pm  RainToday_Yes  \n",
       "0       8.0       8.0     20.9              1  \n",
       "1       7.0       7.0     24.8              1  \n",
       "2       7.0       8.0     23.0              1  \n",
       "3       8.0       8.0     20.9              1  \n",
       "4       8.0       8.0     25.5              1  "
      ]
     },
     "execution_count": 28,
     "metadata": {},
     "output_type": "execute_result"
    }
   ],
   "source": [
    "X.head()"
   ]
  },
  {
   "cell_type": "code",
   "execution_count": 29,
   "id": "6d6bf27c",
   "metadata": {},
   "outputs": [
    {
     "data": {
      "text/plain": [
       "0    1\n",
       "1    1\n",
       "2    1\n",
       "3    1\n",
       "4    1\n",
       "Name: RainTomorrow_Yes, dtype: int32"
      ]
     },
     "execution_count": 29,
     "metadata": {},
     "output_type": "execute_result"
    }
   ],
   "source": [
    "Y.head()"
   ]
  },
  {
   "cell_type": "markdown",
   "id": "52d69489",
   "metadata": {},
   "source": [
    "# Scaling / Standardizing our data"
   ]
  },
  {
   "cell_type": "code",
   "execution_count": 30,
   "id": "16d7cf72",
   "metadata": {},
   "outputs": [],
   "source": [
    "# Creating scaler object which will store the scaling information of our X train variable\n",
    "\n",
    "scaler = preprocessing.StandardScaler().fit(X)"
   ]
  },
  {
   "cell_type": "code",
   "execution_count": 31,
   "id": "08835bd0",
   "metadata": {},
   "outputs": [],
   "source": [
    "# Transform our X into X_scale\n",
    "\n",
    "X_scaled = scaler.transform(X)"
   ]
  },
  {
   "cell_type": "markdown",
   "id": "6fc61482",
   "metadata": {},
   "source": [
    "# Data splitting in test-train"
   ]
  },
  {
   "cell_type": "code",
   "execution_count": 32,
   "id": "a919cbfb",
   "metadata": {},
   "outputs": [],
   "source": [
    "\n",
    "X_train, X_test, Y_train, Y_test = train_test_split (X_scaled, Y, test_size = 0.2, random_state = 42)"
   ]
  },
  {
   "cell_type": "code",
   "execution_count": 33,
   "id": "3f827dc6",
   "metadata": {},
   "outputs": [
    {
     "data": {
      "text/plain": [
       "((2669, 10), (2669,))"
      ]
     },
     "execution_count": 33,
     "metadata": {},
     "output_type": "execute_result"
    }
   ],
   "source": [
    "# checking shape of training data set\n",
    "\n",
    "X_train.shape, Y_train.shape"
   ]
  },
  {
   "cell_type": "code",
   "execution_count": 34,
   "id": "fdf9098d",
   "metadata": {},
   "outputs": [
    {
     "data": {
      "text/plain": [
       "((668, 10), (668,))"
      ]
     },
     "execution_count": 34,
     "metadata": {},
     "output_type": "execute_result"
    }
   ],
   "source": [
    "# checking shape of test data set\n",
    "\n",
    "X_test.shape, Y_test.shape"
   ]
  },
  {
   "cell_type": "markdown",
   "id": "976a73a7",
   "metadata": {},
   "source": [
    "#  LOGISTIC REGRESSSION"
   ]
  },
  {
   "cell_type": "code",
   "execution_count": 35,
   "id": "e8a45c35",
   "metadata": {},
   "outputs": [],
   "source": [
    "# Importing Logistic Regression from Sklearn\n",
    "\n",
    "from sklearn.linear_model import LogisticRegression"
   ]
  },
  {
   "cell_type": "code",
   "execution_count": 36,
   "id": "bc54f039",
   "metadata": {},
   "outputs": [],
   "source": [
    "# Creating an object for our model\n",
    "\n",
    "clf_LR = LogisticRegression()"
   ]
  },
  {
   "cell_type": "code",
   "execution_count": 37,
   "id": "5e689bbb",
   "metadata": {},
   "outputs": [
    {
     "data": {
      "text/html": [
       "<style>#sk-container-id-1 {color: black;}#sk-container-id-1 pre{padding: 0;}#sk-container-id-1 div.sk-toggleable {background-color: white;}#sk-container-id-1 label.sk-toggleable__label {cursor: pointer;display: block;width: 100%;margin-bottom: 0;padding: 0.3em;box-sizing: border-box;text-align: center;}#sk-container-id-1 label.sk-toggleable__label-arrow:before {content: \"▸\";float: left;margin-right: 0.25em;color: #696969;}#sk-container-id-1 label.sk-toggleable__label-arrow:hover:before {color: black;}#sk-container-id-1 div.sk-estimator:hover label.sk-toggleable__label-arrow:before {color: black;}#sk-container-id-1 div.sk-toggleable__content {max-height: 0;max-width: 0;overflow: hidden;text-align: left;background-color: #f0f8ff;}#sk-container-id-1 div.sk-toggleable__content pre {margin: 0.2em;color: black;border-radius: 0.25em;background-color: #f0f8ff;}#sk-container-id-1 input.sk-toggleable__control:checked~div.sk-toggleable__content {max-height: 200px;max-width: 100%;overflow: auto;}#sk-container-id-1 input.sk-toggleable__control:checked~label.sk-toggleable__label-arrow:before {content: \"▾\";}#sk-container-id-1 div.sk-estimator input.sk-toggleable__control:checked~label.sk-toggleable__label {background-color: #d4ebff;}#sk-container-id-1 div.sk-label input.sk-toggleable__control:checked~label.sk-toggleable__label {background-color: #d4ebff;}#sk-container-id-1 input.sk-hidden--visually {border: 0;clip: rect(1px 1px 1px 1px);clip: rect(1px, 1px, 1px, 1px);height: 1px;margin: -1px;overflow: hidden;padding: 0;position: absolute;width: 1px;}#sk-container-id-1 div.sk-estimator {font-family: monospace;background-color: #f0f8ff;border: 1px dotted black;border-radius: 0.25em;box-sizing: border-box;margin-bottom: 0.5em;}#sk-container-id-1 div.sk-estimator:hover {background-color: #d4ebff;}#sk-container-id-1 div.sk-parallel-item::after {content: \"\";width: 100%;border-bottom: 1px solid gray;flex-grow: 1;}#sk-container-id-1 div.sk-label:hover label.sk-toggleable__label {background-color: #d4ebff;}#sk-container-id-1 div.sk-serial::before {content: \"\";position: absolute;border-left: 1px solid gray;box-sizing: border-box;top: 0;bottom: 0;left: 50%;z-index: 0;}#sk-container-id-1 div.sk-serial {display: flex;flex-direction: column;align-items: center;background-color: white;padding-right: 0.2em;padding-left: 0.2em;position: relative;}#sk-container-id-1 div.sk-item {position: relative;z-index: 1;}#sk-container-id-1 div.sk-parallel {display: flex;align-items: stretch;justify-content: center;background-color: white;position: relative;}#sk-container-id-1 div.sk-item::before, #sk-container-id-1 div.sk-parallel-item::before {content: \"\";position: absolute;border-left: 1px solid gray;box-sizing: border-box;top: 0;bottom: 0;left: 50%;z-index: -1;}#sk-container-id-1 div.sk-parallel-item {display: flex;flex-direction: column;z-index: 1;position: relative;background-color: white;}#sk-container-id-1 div.sk-parallel-item:first-child::after {align-self: flex-end;width: 50%;}#sk-container-id-1 div.sk-parallel-item:last-child::after {align-self: flex-start;width: 50%;}#sk-container-id-1 div.sk-parallel-item:only-child::after {width: 0;}#sk-container-id-1 div.sk-dashed-wrapped {border: 1px dashed gray;margin: 0 0.4em 0.5em 0.4em;box-sizing: border-box;padding-bottom: 0.4em;background-color: white;}#sk-container-id-1 div.sk-label label {font-family: monospace;font-weight: bold;display: inline-block;line-height: 1.2em;}#sk-container-id-1 div.sk-label-container {text-align: center;}#sk-container-id-1 div.sk-container {/* jupyter's `normalize.less` sets `[hidden] { display: none; }` but bootstrap.min.css set `[hidden] { display: none !important; }` so we also need the `!important` here to be able to override the default hidden behavior on the sphinx rendered scikit-learn.org. See: https://github.com/scikit-learn/scikit-learn/issues/21755 */display: inline-block !important;position: relative;}#sk-container-id-1 div.sk-text-repr-fallback {display: none;}</style><div id=\"sk-container-id-1\" class=\"sk-top-container\"><div class=\"sk-text-repr-fallback\"><pre>LogisticRegression()</pre><b>In a Jupyter environment, please rerun this cell to show the HTML representation or trust the notebook. <br />On GitHub, the HTML representation is unable to render, please try loading this page with nbviewer.org.</b></div><div class=\"sk-container\" hidden><div class=\"sk-item\"><div class=\"sk-estimator sk-toggleable\"><input class=\"sk-toggleable__control sk-hidden--visually\" id=\"sk-estimator-id-1\" type=\"checkbox\" checked><label for=\"sk-estimator-id-1\" class=\"sk-toggleable__label sk-toggleable__label-arrow\">LogisticRegression</label><div class=\"sk-toggleable__content\"><pre>LogisticRegression()</pre></div></div></div></div></div>"
      ],
      "text/plain": [
       "LogisticRegression()"
      ]
     },
     "execution_count": 37,
     "metadata": {},
     "output_type": "execute_result"
    }
   ],
   "source": [
    "# Fitting our model over in Train data set\n",
    "\n",
    "clf_LR.fit(X_train, Y_train)"
   ]
  },
  {
   "cell_type": "code",
   "execution_count": 38,
   "id": "dda24226",
   "metadata": {},
   "outputs": [],
   "source": [
    "Y_pred_LR_train = clf_LR.predict(X_train)\n",
    "Y_pred_LR_test = clf_LR.predict(X_test)\n"
   ]
  },
  {
   "cell_type": "code",
   "execution_count": 39,
   "id": "d0f5bec8",
   "metadata": {},
   "outputs": [
    {
     "name": "stdout",
     "output_type": "stream",
     "text": [
      "Accuracy score (train): 0.8348\n",
      "Accuracy score (test): 0.8293\n",
      "Precision score (train): 0.7308\n",
      "Precision score (test): 0.7500\n",
      "Recall score (train): 0.5580\n",
      "Recall score (test): 0.5707\n"
     ]
    }
   ],
   "source": [
    "# Accuracy score\n",
    "accuracy_LR_train = accuracy_score(Y_train, Y_pred_LR_train)\n",
    "accuracy_LR_test = accuracy_score(Y_test, Y_pred_LR_test)\n",
    "print(f\"Accuracy score (train): {accuracy_LR_train:.4f}\")\n",
    "print(f\"Accuracy score (test): {accuracy_LR_test:.4f}\")\n",
    "\n",
    "# Precision score\n",
    "precision_LR_train = precision_score(Y_train, Y_pred_LR_train)\n",
    "precision_LR_test = precision_score(Y_test, Y_pred_LR_test)\n",
    "print(f\"Precision score (train): {precision_LR_train:.4f}\")\n",
    "print(f\"Precision score (test): {precision_LR_test:.4f}\")\n",
    "\n",
    "# Recall score\n",
    "recall_LR_train = recall_score(Y_train, Y_pred_LR_train)\n",
    "recall_LR_test = recall_score(Y_test, Y_pred_LR_test)\n",
    "print(f\"Recall score (train): {recall_LR_train:.4f}\")\n",
    "print(f\"Recall score (test): {recall_LR_test:.4f}\")"
   ]
  },
  {
   "cell_type": "code",
   "execution_count": 40,
   "id": "629fa191",
   "metadata": {},
   "outputs": [
    {
     "data": {
      "text/plain": [
       "array([[449,  35],\n",
       "       [ 79, 105]], dtype=int64)"
      ]
     },
     "execution_count": 40,
     "metadata": {},
     "output_type": "execute_result"
    }
   ],
   "source": [
    "\n",
    "confusion_matrix(Y_test,Y_pred_LR_test)"
   ]
  },
  {
   "cell_type": "code",
   "execution_count": 41,
   "id": "ad9f97a7",
   "metadata": {},
   "outputs": [
    {
     "data": {
      "image/png": "[encoded data removed]",
      "text/plain": [
       "<Figure size 640x480 with 1 Axes>"
      ]
     },
     "metadata": {},
     "output_type": "display_data"
    }
   ],
   "source": [
    "# Plotting ROC curve\n",
    "\n",
    "fpr, tpr, _ = metrics.roc_curve(Y_test, Y_pred_LR_test )\n",
    "auc = metrics.roc_auc_score(Y_test, Y_pred_LR_test) # Calculating and plotting auc value\n",
    "plt.plot(fpr,tpr,label=\"LR, auc=\"+str(auc))\n",
    "plt.legend(loc=4)\n",
    "plt.show()"
   ]
  },
  {
   "cell_type": "markdown",
   "id": "0a6031e1",
   "metadata": {},
   "source": [
    "MODEL INTERPRETATTION\n",
    "\n",
    "Training Accuracy: 83.48%\n",
    "Test Accuracy: 82.93%\n",
    "Accuracy measures the overall correctness of the model's predictions. In this case, the model is performing reasonably well on both the training and test sets.\n",
    "Precision:\n",
    "\n",
    "Training Precision: 73.08%\n",
    "Test Precision: 75.00%\n",
    "Precision is the ratio of true positive predictions to the total predicted positives. A higher precision indicates that the model has fewer false positives.\n",
    "Recall:\n",
    "\n",
    "Training Recall: 55.80%\n",
    "Test Recall: 57.07%\n",
    "Recall (or sensitivity) is the ratio of true positive predictions to the total actual positives. It gives an idea of how well the model captures all the relevant cases.\n",
    "\n",
    "ROC AUC Score (0.7491): The ROC AUC score of 0.7491 is a measure of the model's ability to distinguish between the positive and negative classes. A value of 0.7410 indicates that our model performs reasonably well in this regard."
   ]
  },
  {
   "cell_type": "markdown",
   "id": "b081e0bd",
   "metadata": {},
   "source": [
    "# LDA (Linear Discremenant Analysis)"
   ]
  },
  {
   "cell_type": "code",
   "execution_count": 42,
   "id": "87eb4177",
   "metadata": {},
   "outputs": [
    {
     "name": "stdout",
     "output_type": "stream",
     "text": [
      "Training Accuracy score for LDA: 0.8291494941925814\n",
      "Training Precision score for LDA: 0.6949740034662045\n",
      "Training Recall score for LDA: 0.5888399412628488\n",
      "Test Accuracy score for LDA: 0.8278443113772455\n",
      "Test Precision score for LDA: 0.7315436241610739\n",
      "Test Recall score for LDA: 0.592391304347826\n"
     ]
    }
   ],
   "source": [
    "# Importing necessary libraries\n",
    "from sklearn.metrics import accuracy_score, precision_score, recall_score\n",
    "\n",
    "# Importing LDA from sklearn\n",
    "from sklearn.discriminant_analysis import LinearDiscriminantAnalysis\n",
    "\n",
    "# Creating an object for LDA\n",
    "clf_LDA = LinearDiscriminantAnalysis()\n",
    "\n",
    "# Fitting our model over the training dataset\n",
    "clf_LDA.fit(X_train, Y_train)\n",
    "\n",
    "# Predicting on the training dataset\n",
    "Y_train_pred_LDA = clf_LDA.predict(X_train)\n",
    "\n",
    "# Calculating training scores\n",
    "train_accuracy = accuracy_score(Y_train, Y_train_pred_LDA)\n",
    "train_precision = precision_score(Y_train, Y_train_pred_LDA)\n",
    "train_recall = recall_score(Y_train, Y_train_pred_LDA)\n",
    "\n",
    "# Printing training scores\n",
    "print(\"Training Accuracy score for LDA:\", train_accuracy)\n",
    "print(\"Training Precision score for LDA:\", train_precision)\n",
    "print(\"Training Recall score for LDA:\", train_recall)\n",
    "\n",
    "# Predicting on the test dataset\n",
    "Y_test_pred_LDA = clf_LDA.predict(X_test)\n",
    "\n",
    "# Calculating test scores\n",
    "test_accuracy = accuracy_score(Y_test, Y_test_pred_LDA)\n",
    "test_precision = precision_score(Y_test, Y_test_pred_LDA)\n",
    "test_recall = recall_score(Y_test, Y_test_pred_LDA)\n",
    "\n",
    "# Printing test scores\n",
    "print(\"Test Accuracy score for LDA:\", test_accuracy)\n",
    "print(\"Test Precision score for LDA:\", test_precision)\n",
    "print(\"Test Recall score for LDA:\", test_recall)\n"
   ]
  },
  {
   "cell_type": "code",
   "execution_count": 43,
   "id": "d550ecb5",
   "metadata": {},
   "outputs": [
    {
     "name": "stdout",
     "output_type": "stream",
     "text": [
      "Confusion Matrix for Test Set:\n",
      "[[444  40]\n",
      " [ 75 109]]\n"
     ]
    }
   ],
   "source": [
    "conf_matrix_test = confusion_matrix(Y_test, Y_test_pred_LDA)\n",
    "print(\"Confusion Matrix for Test Set:\")\n",
    "print(conf_matrix_test)"
   ]
  },
  {
   "cell_type": "code",
   "execution_count": 44,
   "id": "acdff0fa",
   "metadata": {},
   "outputs": [
    {
     "data": {
      "image/png": "[encoded data removed]",
      "text/plain": [
       "<Figure size 640x480 with 1 Axes>"
      ]
     },
     "metadata": {},
     "output_type": "display_data"
    }
   ],
   "source": [
    "fpr, tpr, _ = metrics.roc_curve(Y_test, Y_test_pred_LDA)\n",
    "auc = metrics.roc_auc_score(Y_test, Y_test_pred_LDA) # Calculating and plotting auc value\n",
    "plt.plot(fpr,tpr,label=\"LR, auc=\"+str(auc))\n",
    "plt.legend(loc=4)\n",
    "plt.show()"
   ]
  },
  {
   "cell_type": "markdown",
   "id": "5a40f57d",
   "metadata": {},
   "source": [
    "Training Set:\n",
    "\n",
    "Accuracy: The model correctly predicted the target variable about 82.9% of the time on the training set.\n",
    "Precision: When the model predicted a positive outcome on the training set, it was correct about 69.5% of the time.\n",
    "Recall: The model identified about 58.9% of the actual positive instances in the training set.Test Set:\n",
    "\n",
    "\n",
    "Test Set:\n",
    "Accuracy: The model correctly predicted the target variable about 82.8% of the time on the test set.\n",
    "Precision: When the model predicted a positive outcome on the test set, it was correct about 73.2% of the time.\n",
    "Recall: The model identified about 59.2% of the actual positive instances in the test set.\n",
    "\n",
    "ROC AUC Score (0.75487):Linear Discriminant Analysis (LDA) model has a ROC AUC score of 0.75487. This score indicates that the model performs reasonably well in distinguishing between positive and negative instances, with values closer to 1.0 suggesting better discrimination. Consider this score alongside other evaluation metrics to get a comprehensive understanding of your model's performance."
   ]
  },
  {
   "cell_type": "markdown",
   "id": "e92a06b3",
   "metadata": {},
   "source": [
    "# KNN CLASSIFICATION WITH GRID SEARCH CV"
   ]
  },
  {
   "cell_type": "code",
   "execution_count": 45,
   "id": "51654c7a",
   "metadata": {},
   "outputs": [
    {
     "name": "stdout",
     "output_type": "stream",
     "text": [
      "Best Parameters: {'n_neighbors': 10, 'weights': 'distance'}\n",
      "Train Accuracy score for KNN: 1.0\n",
      "Train Precision score for KNN: 1.0\n",
      "Train Recall score for KNN: 1.0\n",
      "Test Accuracy score for KNN: 0.8173652694610778\n",
      "Test Precision score for KNN: 0.7246376811594203\n",
      "Test Recall score for KNN: 0.5434782608695652\n"
     ]
    }
   ],
   "source": [
    "from sklearn.model_selection import GridSearchCV, train_test_split\n",
    "from sklearn.neighbors import KNeighborsClassifier\n",
    "\n",
    "\n",
    "# Assuming you have X_scaled and Y as your features and target variable\n",
    "# Splitting the scaled data into training and testing sets\n",
    "X_train, X_test, Y_train, Y_test = train_test_split(X_scaled, Y, test_size=0.2, random_state=42)\n",
    "\n",
    "# Creating a KNN classifier\n",
    "knn_classifier = KNeighborsClassifier()\n",
    "\n",
    "# Defining the parameter grid for Grid Search\n",
    "param_grid = {'n_neighbors': [1, 3, 5, 7, 9,10], 'weights': ['uniform', 'distance']}\n",
    "\n",
    "# Creating a GridSearchCV object\n",
    "grid_search = GridSearchCV(estimator=knn_classifier, param_grid=param_grid, cv=5, scoring='accuracy')\n",
    "\n",
    "# Fitting the model with Grid Search\n",
    "grid_search.fit(X_train, Y_train)\n",
    "\n",
    "# Getting the best parameters from the grid search\n",
    "best_params = grid_search.best_params_\n",
    "\n",
    "# Creating the best KNN model with the best parameters\n",
    "best_knn_model = KNeighborsClassifier(n_neighbors=best_params['n_neighbors'], weights=best_params['weights'])\n",
    "\n",
    "# Fitting the best model on the entire training set\n",
    "best_knn_model.fit(X_train, Y_train)\n",
    "\n",
    "# Predicting on the training set\n",
    "Y_train_pred_knn = best_knn_model.predict(X_train)\n",
    "\n",
    "# Predicting on the test set\n",
    "Y_pred_knn = best_knn_model.predict(X_test)\n",
    "\n",
    "# Calculating and printing training set scores\n",
    "train_accuracy_knn = accuracy_score(Y_train, Y_train_pred_knn)\n",
    "train_precision_knn = precision_score(Y_train, Y_train_pred_knn)\n",
    "train_recall_knn = recall_score(Y_train, Y_train_pred_knn)\n",
    "\n",
    "# Calculating and printing test set scores\n",
    "test_accuracy_knn = accuracy_score(Y_test, Y_pred_knn)\n",
    "test_precision_knn = precision_score(Y_test, Y_pred_knn)\n",
    "test_recall_knn = recall_score(Y_test, Y_pred_knn)\n",
    "\n",
    "print(\"Best Parameters:\", best_params)\n",
    "\n",
    "# Printing training set scores\n",
    "print(\"Train Accuracy score for KNN:\", train_accuracy_knn)\n",
    "print(\"Train Precision score for KNN:\", train_precision_knn)\n",
    "print(\"Train Recall score for KNN:\", train_recall_knn)\n",
    "\n",
    "# Printing test set scores\n",
    "print(\"Test Accuracy score for KNN:\", test_accuracy_knn)\n",
    "print(\"Test Precision score for KNN:\", test_precision_knn)\n",
    "print(\"Test Recall score for KNN:\", test_recall_knn)\n"
   ]
  },
  {
   "cell_type": "code",
   "execution_count": 46,
   "id": "2ba023b0",
   "metadata": {},
   "outputs": [
    {
     "data": {
      "text/plain": [
       "array([[446,  38],\n",
       "       [ 84, 100]], dtype=int64)"
      ]
     },
     "execution_count": 46,
     "metadata": {},
     "output_type": "execute_result"
    }
   ],
   "source": [
    "confusion_matrix(Y_test,Y_pred_knn )"
   ]
  },
  {
   "cell_type": "code",
   "execution_count": 47,
   "id": "7b89b6c5",
   "metadata": {},
   "outputs": [
    {
     "data": {
      "image/png": "[encoded data removed]",
      "text/plain": [
       "<Figure size 640x480 with 1 Axes>"
      ]
     },
     "metadata": {},
     "output_type": "display_data"
    }
   ],
   "source": [
    "# Assuming you have already defined Y_test and Y_pred_knn\n",
    "\n",
    "fpr, tpr, _ = metrics.roc_curve(Y_test, Y_pred_knn)\n",
    "auc = metrics.roc_auc_score(Y_test, Y_pred_knn)\n",
    "\n",
    "plt.plot(fpr, tpr, label=\"LR, auc=\" + str(auc))\n",
    "plt.legend(loc=4)\n",
    "plt.show()"
   ]
  },
  {
   "cell_type": "markdown",
   "id": "f31dbf8c",
   "metadata": {},
   "source": [
    "# MODEL INTERPRETATION:\n",
    "\n",
    "Best Parameters:\n",
    "\n",
    "Number of neighbors (n_neighbors): 10\n",
    "Weight function used in prediction (weights): 'distance'\n",
    "\n",
    "\n",
    "\n",
    "Training Performance Metrics:\n",
    "Train Accuracy score: 1.0 (perfect accuracy)\n",
    "Train Precision score: 1.0 (perfect precision)\n",
    "Train Recall score: 1.0 (perfect recall)\n",
    "\n",
    "\n",
    "\n",
    "Testing Performance Metrics:\n",
    "Test Accuracy score: 0.8174 (81.74% accuracy on unseen data)\n",
    "Test Precision score: 0.7246 (72.46% precision on positive predictions)\n",
    "Test Recall score: 0.5435 (54.35% recall or sensitivity)\n",
    "\n",
    "\n",
    "\n",
    "\n",
    "\n",
    "\n",
    "Some observations:\n",
    "The model performs exceptionally well on the training set, achieving perfect accuracy, precision, and recall. This might indicate overfitting, especially if the training set is relatively small.\n",
    "The testing performance is decent, but there is a drop in accuracy, precision, and recall compared to the training set. This is expected, but it's essential to consider if further tuning or regularization might improve generalization to unseen data."
   ]
  },
  {
   "cell_type": "markdown",
   "id": "5ca34901",
   "metadata": {},
   "source": [
    "# Decision tree classifier WITH GRIDSEARCHCV"
   ]
  },
  {
   "cell_type": "code",
   "execution_count": 48,
   "id": "19e7c83a",
   "metadata": {},
   "outputs": [
    {
     "name": "stdout",
     "output_type": "stream",
     "text": [
      "Best hyperparameters: {'criterion': 'gini', 'max_depth': 4, 'min_samples_leaf': 1, 'min_samples_split': 2}\n",
      "Training score for Decision tree (train set): 0.8433870363431997\n",
      "Accuracy score for Decision tree (test set): 0.8068862275449101\n",
      "Precision score for Decision tree (test set): 0.697841726618705\n",
      "Recall score for Decision tree (test set): 0.5271739130434783\n",
      "Training Precision score for Decision tree (train set): 0.7756813417190775\n",
      "Training Recall score for Decision tree (train set): 0.5433186490455213\n"
     ]
    }
   ],
   "source": [
    "from sklearn.tree import DecisionTreeClassifier\n",
    "\n",
    "\n",
    "# Create an instance of the DecisionTreeClassifier\n",
    "clf_tree = DecisionTreeClassifier(random_state=42)\n",
    "\n",
    "# Define the parameter grid for GridSearchCV\n",
    "param_grid = {\n",
    "    'criterion': ['gini', 'entropy'],\n",
    "    'max_depth': [1, 2, 3, 4, 5],\n",
    "    'min_samples_split': [2, 5, 10],\n",
    "    'min_samples_leaf': [1, 2, 4]\n",
    "}\n",
    "\n",
    "# Initialize GridSearchCV\n",
    "grid_search = GridSearchCV(estimator=clf_tree, param_grid=param_grid, cv=5)\n",
    "\n",
    "# Fit GridSearchCV on your training data\n",
    "grid_search.fit(X_train, Y_train)\n",
    "\n",
    "# Get the best parameters\n",
    "best_params = grid_search.best_params_\n",
    "\n",
    "# Use the best estimator for predictions on test set\n",
    "Y_pred_tree_tuned = grid_search.predict(X_test)\n",
    "\n",
    "# Calculate evaluation metrics for test set\n",
    "accuracy = accuracy_score(Y_test, Y_pred_tree_tuned)\n",
    "precision = precision_score(Y_test, Y_pred_tree_tuned)\n",
    "recall = recall_score(Y_test, Y_pred_tree_tuned)\n",
    "\n",
    "# Get the training score (average cross-validation score)\n",
    "training_score = grid_search.best_score_\n",
    "\n",
    "# Now, let's evaluate the model on the training set\n",
    "Y_pred_tree_train = grid_search.predict(X_train)\n",
    "train_accuracy = accuracy_score(Y_train, Y_pred_tree_train)\n",
    "train_precision = precision_score(Y_train, Y_pred_tree_train)\n",
    "train_recall = recall_score(Y_train, Y_pred_tree_train)\n",
    "\n",
    "print(\"Best hyperparameters:\", best_params)\n",
    "print(\"Training score for Decision tree (train set):\", train_accuracy)\n",
    "print(\"Accuracy score for Decision tree (test set):\", accuracy)\n",
    "print(\"Precision score for Decision tree (test set):\", precision)\n",
    "print(\"Recall score for Decision tree (test set):\", recall)\n",
    "print(\"Training Precision score for Decision tree (train set):\", train_precision)\n",
    "print(\"Training Recall score for Decision tree (train set):\", train_recall)\n"
   ]
  },
  {
   "cell_type": "code",
   "execution_count": 49,
   "id": "85840718",
   "metadata": {},
   "outputs": [
    {
     "data": {
      "text/plain": [
       "array([[442,  42],\n",
       "       [ 87,  97]], dtype=int64)"
      ]
     },
     "execution_count": 49,
     "metadata": {},
     "output_type": "execute_result"
    }
   ],
   "source": [
    "confusion_matrix(Y_test, Y_pred_tree_tuned)"
   ]
  },
  {
   "cell_type": "code",
   "execution_count": 50,
   "id": "ddcb448a",
   "metadata": {},
   "outputs": [
    {
     "data": {
      "image/png": "[encoded data removed]",
      "text/plain": [
       "<Figure size 640x480 with 1 Axes>"
      ]
     },
     "metadata": {},
     "output_type": "display_data"
    }
   ],
   "source": [
    "# Plotting ROC curve\n",
    "\n",
    "fpr, tpr, _ = metrics.roc_curve(Y_test,  Y_pred_tree_tuned)\n",
    "auc = metrics.roc_auc_score(Y_test, Y_pred_tree_tuned) # Calculating and plotting auc value\n",
    "plt.plot(fpr,tpr,label=\"LR, auc=\"+str(auc))\n",
    "plt.legend(loc=4)\n",
    "plt.show()"
   ]
  },
  {
   "cell_type": "markdown",
   "id": "79706698",
   "metadata": {},
   "source": [
    "# MODEL INTERPRETATION\n",
    "\n",
    "\n",
    "- The Decision Tree model was trained with the following hyperparameters:\n",
    "\n",
    "**Criterion: Gini**\n",
    "Maximum Depth: 4\n",
    "Minimum Samples per Leaf: 1\n",
    "Minimum Samples to Split: 2\n",
    "Here are the evaluation metrics for the model:\n",
    "\n",
    "**Accuracy Score**: 0.807 (on the test set)\n",
    "\n",
    "**Precision Score**: 0.698 (on the test set)\n",
    "\n",
    "**Recall Score**: 0.527 (on the test set)\n",
    "\n",
    "\n",
    "Additionally, during training:\n",
    "\n",
    "**Training Score**: 0.843 (on the training set)\n",
    "\n",
    "**Training Precision** Score: 0.776\n",
    "\n",
    "**Training Recall Score**: 0.543\n",
    "\n",
    "**ROC AUC Score (0.7201):** The ROC AUC score of 0.7201 is a measure of the model's ability to distinguish between the positive and negative classes. A score of 0.7323 suggests that the Decision Tree model performs reasonably well in distinguishing between the classes.\n",
    "\n",
    "These scores provide insights into the model’s performance. For instance, the accuracy score indicates how well the model predicts the correct class labels, while precision and recall measure the trade-off between false positives and false negatives."
   ]
  },
  {
   "cell_type": "markdown",
   "id": "121c6f56",
   "metadata": {},
   "source": [
    "# Random forest - Using grid search"
   ]
  },
  {
   "cell_type": "code",
   "execution_count": 51,
   "id": "633271c2",
   "metadata": {},
   "outputs": [],
   "source": [
    "# Importing Random forest Classifier from sklearn\n",
    "\n",
    "from sklearn.ensemble import RandomForestClassifier"
   ]
  },
  {
   "cell_type": "code",
   "execution_count": 52,
   "id": "b69f3628",
   "metadata": {},
   "outputs": [
    {
     "name": "stdout",
     "output_type": "stream",
     "text": [
      "Accuracy score for Random Forest using grid_search: 0.8248502994011976\n",
      "Precision score for Random Forest using grid_search: 0.7557251908396947\n",
      "Recall score for Random Forest using grid_search: 0.5380434782608695\n"
     ]
    }
   ],
   "source": [
    "\n",
    "\n",
    "# Assuming X_train, Y_train, X_test, Y_test are already defined\n",
    "\n",
    "# Modify RandomForestClassifier instantiation with n_jobs=-1\n",
    "clf_rf_2 = RandomForestClassifier(n_jobs=-1)\n",
    "\n",
    "# Creating param grid / hyperparameter for grid search\n",
    "params_rf = {\n",
    "    'n_estimators': [100, 200, 500],\n",
    "    'max_depth': [None, 10, 20],\n",
    "    'min_samples_split': [2, 4, 6, 8],\n",
    "    'min_samples_leaf': [1, 3, 5]\n",
    "}\n",
    "\n",
    "# Performing grid search and storing in a model object\n",
    "grid_search_rf = GridSearchCV(clf_rf_2, params_rf, cv=5)\n",
    "\n",
    "# Training our model over the training dataset\n",
    "grid_search_rf.fit(X_train, Y_train)\n",
    "\n",
    "# Finding the best parameter values using grid search attributes\n",
    "clf_rf_best = grid_search_rf.best_estimator_\n",
    "\n",
    "# Predictions on the test set using the best model\n",
    "Y_pred_rf_best = clf_rf_best.predict(X_test)\n",
    "\n",
    "# Calculating Accuracy score, Precision score, Recall score and printing them\n",
    "print(\"Accuracy score for Random Forest using grid_search:\", accuracy_score(Y_test, Y_pred_rf_best))\n",
    "print(\"Precision score for Random Forest using grid_search:\", precision_score(Y_test, Y_pred_rf_best))\n",
    "print(\"Recall score for Random Forest using grid_search:\", recall_score(Y_test, Y_pred_rf_best))\n"
   ]
  },
  {
   "cell_type": "code",
   "execution_count": 53,
   "id": "3baef3b0",
   "metadata": {},
   "outputs": [
    {
     "data": {
      "text/plain": [
       "array([[452,  32],\n",
       "       [ 85,  99]], dtype=int64)"
      ]
     },
     "execution_count": 53,
     "metadata": {},
     "output_type": "execute_result"
    }
   ],
   "source": [
    "# Printing Confusion matrix\n",
    "\n",
    "confusion_matrix(Y_test, Y_pred_rf_best)"
   ]
  },
  {
   "cell_type": "code",
   "execution_count": 54,
   "id": "2cf6f6dd",
   "metadata": {},
   "outputs": [
    {
     "data": {
      "image/png": "[encoded data removed]",
      "text/plain": [
       "<Figure size 640x480 with 1 Axes>"
      ]
     },
     "metadata": {},
     "output_type": "display_data"
    }
   ],
   "source": [
    "# Plotting ROC curve\n",
    "\n",
    "fpr, tpr, _ = metrics.roc_curve(Y_test,  Y_pred_rf_best)\n",
    "auc = metrics.roc_auc_score(Y_test, Y_pred_rf_best) # Calculating and plotting auc value\n",
    "plt.plot(fpr,tpr,label=\"LR, auc=\"+str(auc))\n",
    "plt.legend(loc=4)\n",
    "plt.show()"
   ]
  },
  {
   "cell_type": "markdown",
   "id": "79625a69",
   "metadata": {},
   "source": [
    "# MODEL INTERPRETATION"
   ]
  },
  {
   "cell_type": "markdown",
   "id": "b9f81dae",
   "metadata": {},
   "source": [
    "**Accuracy Score**: 82.63%\n",
    "\n",
    "This represents the overall accuracy of your model on the test set. It indicates the percentage of correctly classified instances.\n",
    "\n",
    "\n",
    "**Precision Score**: 77.42%\n",
    "Precision measures the accuracy of positive predictions. In your case, it suggests that when the model predicts a positive class, it is correct about 77.42% of the time.\n",
    "\n",
    "\n",
    "**Recall Score**: 52.17%\n",
    "Recall, also known as sensitivity or true positive rate, measures the ability of the model to correctly identify positive instances. In your case, the model is capturing about 52.17% of the actual positive instances.\n",
    "\n",
    "**ROC AUC Score**: 0.7285\n",
    "If a higher recall and ROC AUC score are important, and we are willing to accept a small decrease in accuracy and precision, then the Random Forest model with grid search might be the better choice"
   ]
  },
  {
   "cell_type": "markdown",
   "id": "e632df88",
   "metadata": {},
   "source": [
    "# Gradient Boosting classifier"
   ]
  },
  {
   "cell_type": "code",
   "execution_count": 86,
   "id": "b881e0e2",
   "metadata": {},
   "outputs": [
    {
     "name": "stdout",
     "output_type": "stream",
     "text": [
      "Train Accuracy score for Gradient Boosting classifier: 0.88\n",
      "Train Precision score for Gradient Boosting classifier: 0.86\n",
      "Train Recall score for Gradient Boosting classifier: 0.62\n",
      "Test Accuracy score for Gradient Boosting classifier: 0.83\n",
      "Test Precision score for Gradient Boosting classifier: 0.75\n",
      "Test Recall score for Gradient Boosting classifier: 0.56\n"
     ]
    }
   ],
   "source": [
    "# from sklearn.ensemble import GradientBoostingClassifier\n",
    "\n",
    "# Creating model object\n",
    "clf_gbc = GradientBoostingClassifier()\n",
    "\n",
    "# Fitting our gbc model over train data set \n",
    "clf_gbc.fit(X_train, Y_train)\n",
    "\n",
    "# Predicting values using gbc model over X_test\n",
    "Y_pred_gbc = clf_gbc.predict(X_test)\n",
    "\n",
    "# Calculating evaluation metrics for train data\n",
    "accuracy_train = accuracy_score(Y_train, clf_gbc.predict(X_train))\n",
    "precision_train = precision_score(Y_train, clf_gbc.predict(X_train))\n",
    "recall_train = recall_score(Y_train, clf_gbc.predict(X_train))\n",
    "\n",
    "# Calculating evaluation metrics for test data\n",
    "accuracy_test = accuracy_score(Y_test, Y_pred_gbc)\n",
    "precision_test = precision_score(Y_test, Y_pred_gbc)\n",
    "recall_test = recall_score(Y_test, Y_pred_gbc)\n",
    "\n",
    "# Printing the scores\n",
    "print(f\"Train Accuracy score for Gradient Boosting classifier: {accuracy_train:.2f}\")\n",
    "print(f\"Train Precision score for Gradient Boosting classifier: {precision_train:.2f}\")\n",
    "print(f\"Train Recall score for Gradient Boosting classifier: {recall_train:.2f}\")\n",
    "\n",
    "print(f\"Test Accuracy score for Gradient Boosting classifier: {accuracy_test:.2f}\")\n",
    "print(f\"Test Precision score for Gradient Boosting classifier: {precision_test:.2f}\")\n",
    "print(f\"Test Recall score for Gradient Boosting classifier: {recall_test:.2f}\")"
   ]
  },
  {
   "cell_type": "code",
   "execution_count": 56,
   "id": "91056b69",
   "metadata": {},
   "outputs": [
    {
     "data": {
      "text/plain": [
       "array([[450,  34],\n",
       "       [ 81, 103]], dtype=int64)"
      ]
     },
     "execution_count": 56,
     "metadata": {},
     "output_type": "execute_result"
    }
   ],
   "source": [
    "# Printing confusion matrix\n",
    "\n",
    "confusion_matrix(Y_test, Y_pred_gbc)"
   ]
  },
  {
   "cell_type": "code",
   "execution_count": 57,
   "id": "fd84e6b6",
   "metadata": {},
   "outputs": [
    {
     "data": {
      "image/png": "[encoded data removed]",
      "text/plain": [
       "<Figure size 640x480 with 1 Axes>"
      ]
     },
     "metadata": {},
     "output_type": "display_data"
    }
   ],
   "source": [
    "# Plotting ROC curve\n",
    "\n",
    "fpr, tpr, _ = metrics.roc_curve(Y_test,  Y_pred_gbc)\n",
    "auc = metrics.roc_auc_score(Y_test, Y_pred_gbc) # Calculating and plotting auc value\n",
    "plt.plot(fpr,tpr,label=\"LR, auc=\"+str(auc))\n",
    "plt.legend(loc=4)\n",
    "plt.show()"
   ]
  },
  {
   "cell_type": "markdown",
   "id": "59c0ba47",
   "metadata": {},
   "source": [
    "# MODEL INTERPRETATION"
   ]
  },
  {
   "cell_type": "markdown",
   "id": "d2e16290",
   "metadata": {},
   "source": [
    "The Gradient Boosting Classifier demonstrates solid predictive performance on both the training and testing datasets. Let's delve into the key metrics to gain insights into its strengths and areas for potential improvement.\n",
    "\n",
    "**Training Set Performance**:\n",
    "\n",
    "Accuracy (Train): 88%\n",
    "The model correctly classifies approximately 88% of instances in the training set. This indicates a high level of overall correctness in its predictions.\n",
    "\n",
    "\n",
    "\n",
    "Precision (Train): 86%\n",
    "Among instances predicted as positive, 86% are truly positive. This suggests that when the model predicts a positive outcome, it is often correct, minimizing false positives.\n",
    "\n",
    "\n",
    "\n",
    "Recall (Train): 62%\n",
    "The model successfully captures 62% of actual positive instances. While this is a reasonable recall score, it also indicates that there is room for improvement in identifying more positive cases.\n",
    "\n",
    "\n",
    "\n",
    "\n",
    "\n",
    "**Testing Set Performance**:\n",
    "\n",
    "Accuracy (Test): 83%\n",
    "The model maintains strong predictive ability on the testing set, correctly classifying approximately 83% of instances. This suggests good generalization to unseen data.\n",
    "\n",
    "\n",
    "Precision (Test): 75%\n",
    "Among instances predicted as positive, 75% are indeed positive. This signifies a reasonably low rate of false positives, contributing to the reliability of positive predictions.\n",
    "\n",
    "Recall (Test): 56%\n",
    "The model captures 56% of actual positive instances in the testing set. While this is a moderate recall score, it indicates potential areas for improvement in identifying more positive cases, similar to the training set.\n",
    "Overall Impression:\n",
    "\n",
    "The model demonstrates a balance between accuracy, precision, and recall, suggesting a robust performance on both training and testing datasets.\n",
    "The drop in performance metrics from training to testing is expected but relatively small, indicating good generalization.\n",
    "There may be opportunities for further optimization, especially in increasing recall on both sets to better identify positive instances.\n",
    "\n",
    "\n",
    "\n",
    "**AUC of ROC Score** (0.7447): The AUC of ROC score is 74.47%, indicating that the Gradient Boosting Classifier performs reasonably well in distinguishing between the positive and negative classes."
   ]
  },
  {
   "cell_type": "markdown",
   "id": "0c14f16c",
   "metadata": {},
   "source": [
    "# ADA Boosting classifier"
   ]
  },
  {
   "cell_type": "code",
   "execution_count": 58,
   "id": "44489472",
   "metadata": {},
   "outputs": [
    {
     "name": "stdout",
     "output_type": "stream",
     "text": [
      "Accuracy score for AdaBoost: 0.8218562874251497\n",
      "Precision score for AdaBoost: 0.751937984496124\n",
      "Recall score for AdaBoost: 0.5271739130434783\n",
      "Train Accuracy Score: 0.8546\n",
      "Test Accuracy Score: 0.8219\n"
     ]
    }
   ],
   "source": [
    "from sklearn.ensemble import AdaBoostClassifier\n",
    "\n",
    "\n",
    "# Creating Model object\n",
    "clf_ada = AdaBoostClassifier(learning_rate=0.02, n_estimators=5000)\n",
    "\n",
    "# Fitting our model over Train data set\n",
    "clf_ada.fit(X_train, Y_train)\n",
    "\n",
    "# Predicting values using our model\n",
    "Y_pred_ada = clf_ada.predict(X_test)\n",
    "\n",
    "# Calculating Accuracy score, Precision score, and Recall score\n",
    "print(\"Accuracy score for AdaBoost:\", accuracy_score(Y_test, Y_pred_ada))\n",
    "print(\"Precision score for AdaBoost:\", precision_score(Y_test, Y_pred_ada))\n",
    "print(\"Recall score for AdaBoost:\", recall_score(Y_test, Y_pred_ada))\n",
    "\n",
    "# Print train and test scores\n",
    "train_accuracy = accuracy_score(Y_train, clf_ada.predict(X_train))\n",
    "test_accuracy = accuracy_score(Y_test, Y_pred_ada)\n",
    "print(f\"Train Accuracy Score: {train_accuracy:.4f}\")\n",
    "print(f\"Test Accuracy Score: {test_accuracy:.4f}\")\n"
   ]
  },
  {
   "cell_type": "code",
   "execution_count": 59,
   "id": "02332f8e",
   "metadata": {},
   "outputs": [
    {
     "data": {
      "text/plain": [
       "array([[452,  32],\n",
       "       [ 87,  97]], dtype=int64)"
      ]
     },
     "execution_count": 59,
     "metadata": {},
     "output_type": "execute_result"
    }
   ],
   "source": [
    "confusion_matrix(Y_test, Y_pred_ada)"
   ]
  },
  {
   "cell_type": "code",
   "execution_count": 60,
   "id": "7b8f5afc",
   "metadata": {},
   "outputs": [
    {
     "data": {
      "image/png": "[encoded data removed]",
      "text/plain": [
       "<Figure size 640x480 with 1 Axes>"
      ]
     },
     "metadata": {},
     "output_type": "display_data"
    }
   ],
   "source": [
    "# Plotting ROC curve\n",
    "\n",
    "fpr, tpr, _ = metrics.roc_curve(Y_test,  Y_pred_ada)\n",
    "auc = metrics.roc_auc_score(Y_test, Y_pred_ada) # Calculating and plotting auc value\n",
    "plt.plot(fpr,tpr,label=\"LR, auc=\"+str(auc))\n",
    "plt.legend(loc=4)\n",
    "plt.show()"
   ]
  },
  {
   "cell_type": "markdown",
   "id": "d67fdb37",
   "metadata": {},
   "source": [
    "Training Set Performance:\n",
    "\n",
    "Train Accuracy Score: 85.46%\n",
    "The model achieves a commendable accuracy of approximately 85.46% on the training set, indicating a robust fit to the training data.\n",
    "\n",
    "Testing Set Performance:\n",
    "\n",
    "Test Accuracy Score: 82.19%\n",
    "The model maintains strong generalization, achieving an accuracy of approximately 82.19% on the testing set. This suggests that the model's learned patterns extend well to new, unseen data.\n",
    "Precision, Recall, and Test Scores:\n",
    "\n",
    "Accuracy Score for AdaBoost: 82.19%\n",
    "\n",
    "The overall accuracy on the test set is approximately 82.19%, reflecting the proportion of correctly classified instances.\n",
    "Precision Score for AdaBoost: 75.19%\n",
    "\n",
    "Among instances predicted as positive, 75.19% are truly positive. This implies a relatively low rate of false positives, contributing to the reliability of positive predictions.\n",
    "Recall Score for AdaBoost: 52.72%\n",
    "\n",
    "The model captures 52.72% of actual positive instances in the test set. While this indicates a moderate recall score, there's potential for improvement in identifying more positive cases.\n",
    "Overall Impression:\n",
    "\n",
    "The AdaBoost classifier demonstrates robust generalization from the training set to the testing set, with accuracy scores that are reasonably aligned.\n",
    "\n",
    "The precision score highlights the model's ability to make positive predictions with a relatively low rate of false positives.\n",
    "\n",
    "The recall score suggests room for improvement in capturing a higher proportion of actual positive instances.\n",
    "\n",
    "\n",
    "AUC of ROC Score (0.7399)"
   ]
  },
  {
   "cell_type": "markdown",
   "id": "1c1fa314",
   "metadata": {},
   "source": [
    "# Ada boost using estimator Random forest"
   ]
  },
  {
   "cell_type": "code",
   "execution_count": 63,
   "id": "a47d5e31",
   "metadata": {},
   "outputs": [
    {
     "name": "stdout",
     "output_type": "stream",
     "text": [
      "Accuracy score for Ada Boost with Random Forest (Train Set): 1.0\n",
      "Precision score for Ada Boost with Random Forest (Train Set): 1.0\n",
      "Recall score for Ada Boost with Random Forest (Train Set): 1.0\n",
      "\n",
      "Accuracy score for Ada Boost with Random Forest (Test Set): 0.8263473053892215\n",
      "Precision score for Ada Boost with Random Forest (Test Set): 0.7463768115942029\n",
      "Recall score for Ada Boost with Random Forest (Test Set): 0.5597826086956522\n"
     ]
    }
   ],
   "source": [
    "# Creating a model object with the Random Forest Classifier as the base estimator\n",
    "clf_ada2 = AdaBoostClassifier(clf_rf_2, learning_rate=0.05, n_estimators=500)\n",
    "\n",
    "# Fitting our model over the training dataset\n",
    "clf_ada2.fit(X_train, Y_train)\n",
    "\n",
    "# Predicting values using our model on the test set\n",
    "Y_pred_ada2_test = clf_ada2.predict(X_test)\n",
    "\n",
    "# Calculating Accuracy score, Precision score, and Recall score on the test set\n",
    "print(\"Accuracy score for Ada Boost with Random Forest (Train Set):\", accuracy_score(Y_train, clf_ada2.predict(X_train)))\n",
    "print(\"Precision score for Ada Boost with Random Forest (Train Set):\", precision_score(Y_train, clf_ada2.predict(X_train)))\n",
    "print(\"Recall score for Ada Boost with Random Forest (Train Set):\", recall_score(Y_train, clf_ada2.predict(X_train)))\n",
    "\n",
    "print(\"\\nAccuracy score for Ada Boost with Random Forest (Test Set):\", accuracy_score(Y_test, Y_pred_ada2_test))\n",
    "print(\"Precision score for Ada Boost with Random Forest (Test Set):\", precision_score(Y_test, Y_pred_ada2_test))\n",
    "print(\"Recall score for Ada Boost with Random Forest (Test Set):\", recall_score(Y_test, Y_pred_ada2_test))\n"
   ]
  },
  {
   "cell_type": "code",
   "execution_count": 67,
   "id": "5798f0d2",
   "metadata": {},
   "outputs": [
    {
     "data": {
      "text/plain": [
       "array([[449,  35],\n",
       "       [ 81, 103]], dtype=int64)"
      ]
     },
     "execution_count": 67,
     "metadata": {},
     "output_type": "execute_result"
    }
   ],
   "source": [
    "# Displaying confusion matrix\n",
    "\n",
    "confusion_matrix(Y_test, Y_pred_ada2_test)"
   ]
  },
  {
   "cell_type": "code",
   "execution_count": 68,
   "id": "73e9faba",
   "metadata": {},
   "outputs": [
    {
     "data": {
      "image/png": "[encoded data removed]",
      "text/plain": [
       "<Figure size 640x480 with 1 Axes>"
      ]
     },
     "metadata": {},
     "output_type": "display_data"
    }
   ],
   "source": [
    "# Plotting ROC curve\n",
    "\n",
    "fpr, tpr, _ = metrics.roc_curve(Y_test, Y_pred_ada2_test )\n",
    "auc = metrics.roc_auc_score(Y_test, Y_pred_ada2_test) # Calculating and plotting auc value\n",
    "plt.plot(fpr,tpr,label=\"LR, auc=\"+str(auc))\n",
    "plt.legend(loc=4)\n",
    "plt.show()"
   ]
  },
  {
   "cell_type": "markdown",
   "id": "6d471658",
   "metadata": {},
   "source": [
    "# MODEL INTERPRETATION"
   ]
  },
  {
   "cell_type": "markdown",
   "id": "5dc4154e",
   "metadata": {},
   "source": [
    "AdaBoost with Random Forest as the **estimator** demonstrates improved accuracy, precision, recall, and AUC of ROC compared to the standard AdaBoost. This suggests that AdaBoost with Random Forest is a better-performing model for our classification task. However, the choice of the best model should still align with your specific classification goals and requirements, and we may want to consider the implications of false positives and false negatives in your application."
   ]
  },
  {
   "cell_type": "markdown",
   "id": "2ba56344",
   "metadata": {},
   "source": [
    "#  XG BOOST"
   ]
  },
  {
   "cell_type": "code",
   "execution_count": 69,
   "id": "db3c4cb5",
   "metadata": {},
   "outputs": [
    {
     "name": "stdout",
     "output_type": "stream",
     "text": [
      "Train Accuracy score for XGBoost: 0.9741\n",
      "Train Precision score for XGBoost: 0.9904\n",
      "Train Recall score for XGBoost: 0.9075\n",
      "Test Accuracy score for XGBoost: 0.8174\n",
      "Test Precision score for XGBoost: 0.7067\n",
      "Test Recall score for XGBoost: 0.5761\n"
     ]
    }
   ],
   "source": [
    "# Import necessary libraries\n",
    "import xgboost as xgb\n",
    "\n",
    "\n",
    "# Assuming you have already split your data into X_train, Y_train, X_test, and Y_test\n",
    "\n",
    "# Create an XGBoost model with specified hyperparameters\n",
    "clf_xgb = xgb.XGBClassifier(max_depth=5, n_estimators=1000, learning_rate=0.03, n_jobs=-1)\n",
    "\n",
    "# Train the model on the training data\n",
    "clf_xgb.fit(X_train, Y_train)\n",
    "\n",
    "# Predict values using the trained model\n",
    "Y_pred_xgb = clf_xgb.predict(X_test)\n",
    "\n",
    "# Calculate evaluation metrics for train data\n",
    "train_accuracy = accuracy_score(Y_train, clf_xgb.predict(X_train))\n",
    "train_precision = precision_score(Y_train, clf_xgb.predict(X_train))\n",
    "train_recall = recall_score(Y_train, clf_xgb.predict(X_train))\n",
    "\n",
    "# Calculate evaluation metrics for test data\n",
    "test_accuracy = accuracy_score(Y_test, Y_pred_xgb)\n",
    "test_precision = precision_score(Y_test, Y_pred_xgb)\n",
    "test_recall = recall_score(Y_test, Y_pred_xgb)\n",
    "\n",
    "# Print the evaluation scores for train data\n",
    "print(f\"Train Accuracy score for XGBoost: {train_accuracy:.4f}\")\n",
    "print(f\"Train Precision score for XGBoost: {train_precision:.4f}\")\n",
    "print(f\"Train Recall score for XGBoost: {train_recall:.4f}\")\n",
    "\n",
    "# Print the evaluation scores for test data\n",
    "print(f\"Test Accuracy score for XGBoost: {test_accuracy:.4f}\")\n",
    "print(f\"Test Precision score for XGBoost: {test_precision:.4f}\")\n",
    "print(f\"Test Recall score for XGBoost: {test_recall:.4f}\")\n"
   ]
  },
  {
   "cell_type": "code",
   "execution_count": 70,
   "id": "1bfcebfe",
   "metadata": {},
   "outputs": [
    {
     "data": {
      "text/plain": [
       "array([[440,  44],\n",
       "       [ 78, 106]], dtype=int64)"
      ]
     },
     "execution_count": 70,
     "metadata": {},
     "output_type": "execute_result"
    }
   ],
   "source": [
    "# Displaying Confusion matrix\n",
    "\n",
    "confusion_matrix(Y_test, Y_pred_xgb)"
   ]
  },
  {
   "cell_type": "code",
   "execution_count": 71,
   "id": "d4a31552",
   "metadata": {},
   "outputs": [
    {
     "data": {
      "image/png": "[encoded data removed]",
      "text/plain": [
       "<Figure size 640x480 with 1 Axes>"
      ]
     },
     "metadata": {},
     "output_type": "display_data"
    }
   ],
   "source": [
    "# Plotting ROC curve\n",
    "\n",
    "fpr, tpr, _ = metrics.roc_curve(Y_test,  Y_pred_xgb)\n",
    "auc = metrics.roc_auc_score(Y_test, Y_pred_xgb) # Calculating and plotting auc value\n",
    "plt.plot(fpr,tpr,label=\"LR, auc=\"+str(auc))\n",
    "plt.legend(loc=4)\n",
    "plt.show()"
   ]
  },
  {
   "cell_type": "markdown",
   "id": "63741e3c",
   "metadata": {},
   "source": [
    "# MODEL INTERPRETATION"
   ]
  },
  {
   "cell_type": "markdown",
   "id": "55e39558",
   "metadata": {},
   "source": [
    "Train Accuracy: 97.41%. This metric indicates how well the model predicts the training data labels.\n",
    "\n",
    "Train Precision: 99.04%. Precision measures the proportion of true positive predictions among all positive predictions.\n",
    "\n",
    "Train Recall: 90.75%. Recall (also known as sensitivity) quantifies the proportion of true positive predictions among all actual positive instances.\n",
    "\n",
    "\n",
    "\n",
    "\n",
    "\n",
    "Test Accuracy: 81.74%. This score reflects the model’s performance on unseen test data.\n",
    "\n",
    "Test Precision: 70.67%. Precision on the test set—how well the model identifies true positives.\n",
    "\n",
    "Test Recall: 57.61%. Recall on the test data—how effectively the model captures actual positive instances."
   ]
  },
  {
   "cell_type": "markdown",
   "id": "94b105fe",
   "metadata": {},
   "source": [
    "# Using grid search - XG boost"
   ]
  },
  {
   "cell_type": "code",
   "execution_count": 72,
   "id": "9af741a2",
   "metadata": {},
   "outputs": [],
   "source": [
    "# Creating model object\n",
    "\n",
    "clf_xgb2 = xgb.XGBClassifier(n_estimators = 5000, learning_rate = 0.01, random_state = 42 )"
   ]
  },
  {
   "cell_type": "code",
   "execution_count": 74,
   "id": "ef20f112",
   "metadata": {},
   "outputs": [],
   "source": [
    " #Creating param grid / hyperperameter for grid search\n",
    "\n",
    "param_test1 = {'max_depth' : range(3,10,2),\n",
    "                'gamma' : [0.1, 0.2, 0.3],\n",
    "                'subsample' : [0.8, 0.9],\n",
    "                'colsample_bytree' : [0.8, 0.9],\n",
    "                'reg_alpha' : [0.01, 0.1, 1]  }"
   ]
  },
  {
   "cell_type": "code",
   "execution_count": 75,
   "id": "30c38e48",
   "metadata": {},
   "outputs": [],
   "source": [
    "# Performing grid search and storing in a model object\n",
    "\n",
    "grid_search = GridSearchCV(clf_xgb2, param_test1, n_jobs = -1, cv = 5, scoring = 'accuracy')"
   ]
  },
  {
   "cell_type": "code",
   "execution_count": 76,
   "id": "a88481d3",
   "metadata": {},
   "outputs": [
    {
     "data": {
      "text/html": [
       "<style>#sk-container-id-2 {color: black;}#sk-container-id-2 pre{padding: 0;}#sk-container-id-2 div.sk-toggleable {background-color: white;}#sk-container-id-2 label.sk-toggleable__label {cursor: pointer;display: block;width: 100%;margin-bottom: 0;padding: 0.3em;box-sizing: border-box;text-align: center;}#sk-container-id-2 label.sk-toggleable__label-arrow:before {content: \"▸\";float: left;margin-right: 0.25em;color: #696969;}#sk-container-id-2 label.sk-toggleable__label-arrow:hover:before {color: black;}#sk-container-id-2 div.sk-estimator:hover label.sk-toggleable__label-arrow:before {color: black;}#sk-container-id-2 div.sk-toggleable__content {max-height: 0;max-width: 0;overflow: hidden;text-align: left;background-color: #f0f8ff;}#sk-container-id-2 div.sk-toggleable__content pre {margin: 0.2em;color: black;border-radius: 0.25em;background-color: #f0f8ff;}#sk-container-id-2 input.sk-toggleable__control:checked~div.sk-toggleable__content {max-height: 200px;max-width: 100%;overflow: auto;}#sk-container-id-2 input.sk-toggleable__control:checked~label.sk-toggleable__label-arrow:before {content: \"▾\";}#sk-container-id-2 div.sk-estimator input.sk-toggleable__control:checked~label.sk-toggleable__label {background-color: #d4ebff;}#sk-container-id-2 div.sk-label input.sk-toggleable__control:checked~label.sk-toggleable__label {background-color: #d4ebff;}#sk-container-id-2 input.sk-hidden--visually {border: 0;clip: rect(1px 1px 1px 1px);clip: rect(1px, 1px, 1px, 1px);height: 1px;margin: -1px;overflow: hidden;padding: 0;position: absolute;width: 1px;}#sk-container-id-2 div.sk-estimator {font-family: monospace;background-color: #f0f8ff;border: 1px dotted black;border-radius: 0.25em;box-sizing: border-box;margin-bottom: 0.5em;}#sk-container-id-2 div.sk-estimator:hover {background-color: #d4ebff;}#sk-container-id-2 div.sk-parallel-item::after {content: \"\";width: 100%;border-bottom: 1px solid gray;flex-grow: 1;}#sk-container-id-2 div.sk-label:hover label.sk-toggleable__label {background-color: #d4ebff;}#sk-container-id-2 div.sk-serial::before {content: \"\";position: absolute;border-left: 1px solid gray;box-sizing: border-box;top: 0;bottom: 0;left: 50%;z-index: 0;}#sk-container-id-2 div.sk-serial {display: flex;flex-direction: column;align-items: center;background-color: white;padding-right: 0.2em;padding-left: 0.2em;position: relative;}#sk-container-id-2 div.sk-item {position: relative;z-index: 1;}#sk-container-id-2 div.sk-parallel {display: flex;align-items: stretch;justify-content: center;background-color: white;position: relative;}#sk-container-id-2 div.sk-item::before, #sk-container-id-2 div.sk-parallel-item::before {content: \"\";position: absolute;border-left: 1px solid gray;box-sizing: border-box;top: 0;bottom: 0;left: 50%;z-index: -1;}#sk-container-id-2 div.sk-parallel-item {display: flex;flex-direction: column;z-index: 1;position: relative;background-color: white;}#sk-container-id-2 div.sk-parallel-item:first-child::after {align-self: flex-end;width: 50%;}#sk-container-id-2 div.sk-parallel-item:last-child::after {align-self: flex-start;width: 50%;}#sk-container-id-2 div.sk-parallel-item:only-child::after {width: 0;}#sk-container-id-2 div.sk-dashed-wrapped {border: 1px dashed gray;margin: 0 0.4em 0.5em 0.4em;box-sizing: border-box;padding-bottom: 0.4em;background-color: white;}#sk-container-id-2 div.sk-label label {font-family: monospace;font-weight: bold;display: inline-block;line-height: 1.2em;}#sk-container-id-2 div.sk-label-container {text-align: center;}#sk-container-id-2 div.sk-container {/* jupyter's `normalize.less` sets `[hidden] { display: none; }` but bootstrap.min.css set `[hidden] { display: none !important; }` so we also need the `!important` here to be able to override the default hidden behavior on the sphinx rendered scikit-learn.org. See: https://github.com/scikit-learn/scikit-learn/issues/21755 */display: inline-block !important;position: relative;}#sk-container-id-2 div.sk-text-repr-fallback {display: none;}</style><div id=\"sk-container-id-2\" class=\"sk-top-container\"><div class=\"sk-text-repr-fallback\"><pre>GridSearchCV(cv=5,\n",
       "             estimator=XGBClassifier(base_score=None, booster=None,\n",
       "                                     callbacks=None, colsample_bylevel=None,\n",
       "                                     colsample_bynode=None,\n",
       "                                     colsample_bytree=None, device=None,\n",
       "                                     early_stopping_rounds=None,\n",
       "                                     enable_categorical=False, eval_metric=None,\n",
       "                                     feature_types=None, gamma=None,\n",
       "                                     grow_policy=None, importance_type=None,\n",
       "                                     interaction_constraints=None,\n",
       "                                     learning_rate=0.01,...\n",
       "                                     max_delta_step=None, max_depth=None,\n",
       "                                     max_leaves=None, min_child_weight=None,\n",
       "                                     missing=nan, monotone_constraints=None,\n",
       "                                     multi_strategy=None, n_estimators=5000,\n",
       "                                     n_jobs=None, num_parallel_tree=None,\n",
       "                                     random_state=42, ...),\n",
       "             n_jobs=-1,\n",
       "             param_grid={&#x27;colsample_bytree&#x27;: [0.8, 0.9],\n",
       "                         &#x27;gamma&#x27;: [0.1, 0.2, 0.3], &#x27;max_depth&#x27;: range(3, 10, 2),\n",
       "                         &#x27;reg_alpha&#x27;: [0.01, 0.1, 1], &#x27;subsample&#x27;: [0.8, 0.9]},\n",
       "             scoring=&#x27;accuracy&#x27;)</pre><b>In a Jupyter environment, please rerun this cell to show the HTML representation or trust the notebook. <br />On GitHub, the HTML representation is unable to render, please try loading this page with nbviewer.org.</b></div><div class=\"sk-container\" hidden><div class=\"sk-item sk-dashed-wrapped\"><div class=\"sk-label-container\"><div class=\"sk-label sk-toggleable\"><input class=\"sk-toggleable__control sk-hidden--visually\" id=\"sk-estimator-id-2\" type=\"checkbox\" ><label for=\"sk-estimator-id-2\" class=\"sk-toggleable__label sk-toggleable__label-arrow\">GridSearchCV</label><div class=\"sk-toggleable__content\"><pre>GridSearchCV(cv=5,\n",
       "             estimator=XGBClassifier(base_score=None, booster=None,\n",
       "                                     callbacks=None, colsample_bylevel=None,\n",
       "                                     colsample_bynode=None,\n",
       "                                     colsample_bytree=None, device=None,\n",
       "                                     early_stopping_rounds=None,\n",
       "                                     enable_categorical=False, eval_metric=None,\n",
       "                                     feature_types=None, gamma=None,\n",
       "                                     grow_policy=None, importance_type=None,\n",
       "                                     interaction_constraints=None,\n",
       "                                     learning_rate=0.01,...\n",
       "                                     max_delta_step=None, max_depth=None,\n",
       "                                     max_leaves=None, min_child_weight=None,\n",
       "                                     missing=nan, monotone_constraints=None,\n",
       "                                     multi_strategy=None, n_estimators=5000,\n",
       "                                     n_jobs=None, num_parallel_tree=None,\n",
       "                                     random_state=42, ...),\n",
       "             n_jobs=-1,\n",
       "             param_grid={&#x27;colsample_bytree&#x27;: [0.8, 0.9],\n",
       "                         &#x27;gamma&#x27;: [0.1, 0.2, 0.3], &#x27;max_depth&#x27;: range(3, 10, 2),\n",
       "                         &#x27;reg_alpha&#x27;: [0.01, 0.1, 1], &#x27;subsample&#x27;: [0.8, 0.9]},\n",
       "             scoring=&#x27;accuracy&#x27;)</pre></div></div></div><div class=\"sk-parallel\"><div class=\"sk-parallel-item\"><div class=\"sk-item\"><div class=\"sk-label-container\"><div class=\"sk-label sk-toggleable\"><input class=\"sk-toggleable__control sk-hidden--visually\" id=\"sk-estimator-id-3\" type=\"checkbox\" ><label for=\"sk-estimator-id-3\" class=\"sk-toggleable__label sk-toggleable__label-arrow\">estimator: XGBClassifier</label><div class=\"sk-toggleable__content\"><pre>XGBClassifier(base_score=None, booster=None, callbacks=None,\n",
       "              colsample_bylevel=None, colsample_bynode=None,\n",
       "              colsample_bytree=None, device=None, early_stopping_rounds=None,\n",
       "              enable_categorical=False, eval_metric=None, feature_types=None,\n",
       "              gamma=None, grow_policy=None, importance_type=None,\n",
       "              interaction_constraints=None, learning_rate=0.01, max_bin=None,\n",
       "              max_cat_threshold=None, max_cat_to_onehot=None,\n",
       "              max_delta_step=None, max_depth=None, max_leaves=None,\n",
       "              min_child_weight=None, missing=nan, monotone_constraints=None,\n",
       "              multi_strategy=None, n_estimators=5000, n_jobs=None,\n",
       "              num_parallel_tree=None, random_state=42, ...)</pre></div></div></div><div class=\"sk-serial\"><div class=\"sk-item\"><div class=\"sk-estimator sk-toggleable\"><input class=\"sk-toggleable__control sk-hidden--visually\" id=\"sk-estimator-id-4\" type=\"checkbox\" ><label for=\"sk-estimator-id-4\" class=\"sk-toggleable__label sk-toggleable__label-arrow\">XGBClassifier</label><div class=\"sk-toggleable__content\"><pre>XGBClassifier(base_score=None, booster=None, callbacks=None,\n",
       "              colsample_bylevel=None, colsample_bynode=None,\n",
       "              colsample_bytree=None, device=None, early_stopping_rounds=None,\n",
       "              enable_categorical=False, eval_metric=None, feature_types=None,\n",
       "              gamma=None, grow_policy=None, importance_type=None,\n",
       "              interaction_constraints=None, learning_rate=0.01, max_bin=None,\n",
       "              max_cat_threshold=None, max_cat_to_onehot=None,\n",
       "              max_delta_step=None, max_depth=None, max_leaves=None,\n",
       "              min_child_weight=None, missing=nan, monotone_constraints=None,\n",
       "              multi_strategy=None, n_estimators=5000, n_jobs=None,\n",
       "              num_parallel_tree=None, random_state=42, ...)</pre></div></div></div></div></div></div></div></div></div></div>"
      ],
      "text/plain": [
       "GridSearchCV(cv=5,\n",
       "             estimator=XGBClassifier(base_score=None, booster=None,\n",
       "                                     callbacks=None, colsample_bylevel=None,\n",
       "                                     colsample_bynode=None,\n",
       "                                     colsample_bytree=None, device=None,\n",
       "                                     early_stopping_rounds=None,\n",
       "                                     enable_categorical=False, eval_metric=None,\n",
       "                                     feature_types=None, gamma=None,\n",
       "                                     grow_policy=None, importance_type=None,\n",
       "                                     interaction_constraints=None,\n",
       "                                     learning_rate=0.01,...\n",
       "                                     max_delta_step=None, max_depth=None,\n",
       "                                     max_leaves=None, min_child_weight=None,\n",
       "                                     missing=nan, monotone_constraints=None,\n",
       "                                     multi_strategy=None, n_estimators=5000,\n",
       "                                     n_jobs=None, num_parallel_tree=None,\n",
       "                                     random_state=42, ...),\n",
       "             n_jobs=-1,\n",
       "             param_grid={'colsample_bytree': [0.8, 0.9],\n",
       "                         'gamma': [0.1, 0.2, 0.3], 'max_depth': range(3, 10, 2),\n",
       "                         'reg_alpha': [0.01, 0.1, 1], 'subsample': [0.8, 0.9]},\n",
       "             scoring='accuracy')"
      ]
     },
     "execution_count": 76,
     "metadata": {},
     "output_type": "execute_result"
    }
   ],
   "source": [
    "# Fitting our model over train data set\n",
    "\n",
    "grid_search.fit(X_train, Y_train)"
   ]
  },
  {
   "cell_type": "code",
   "execution_count": 79,
   "id": "7fa22b61",
   "metadata": {},
   "outputs": [
    {
     "data": {
      "text/plain": [
       "{'colsample_bytree': 0.9,\n",
       " 'gamma': 0.3,\n",
       " 'max_depth': 9,\n",
       " 'reg_alpha': 1,\n",
       " 'subsample': 0.9}"
      ]
     },
     "execution_count": 79,
     "metadata": {},
     "output_type": "execute_result"
    }
   ],
   "source": [
    "# finding best param value using grid search attribute\n",
    "\n",
    "grid_search.best_params_"
   ]
  },
  {
   "cell_type": "code",
   "execution_count": 80,
   "id": "e84e3e81",
   "metadata": {},
   "outputs": [],
   "source": [
    "# finding best estimator using grid search attribute and storing in object\n",
    "\n",
    "clf_xgb_best = grid_search.best_estimator_"
   ]
  },
  {
   "cell_type": "code",
   "execution_count": 82,
   "id": "151b18c0",
   "metadata": {},
   "outputs": [],
   "source": [
    "# Predicting value using our model\n",
    "\n",
    "Y_pred_xgb_best = clf_xgb_best.predict(X_test)"
   ]
  },
  {
   "cell_type": "code",
   "execution_count": 83,
   "id": "6548dd14",
   "metadata": {},
   "outputs": [
    {
     "name": "stdout",
     "output_type": "stream",
     "text": [
      "Accuracy score for xgb boost: 0.8143712574850299\n",
      "Precision score for xgb boost: 0.6875\n",
      "Recall score for xgb boost: 0.5978260869565217\n"
     ]
    }
   ],
   "source": [
    "# Calculating Accuracy score, Precision score, Recall score and printing them.\n",
    "\n",
    "print(\"Accuracy score for xgb boost:\",accuracy_score(Y_test, Y_pred_xgb_best))\n",
    "print(\"Precision score for xgb boost:\", precision_score(Y_test, Y_pred_xgb_best))\n",
    "print(\"Recall score for xgb boost:\", recall_score(Y_test, Y_pred_xgb_best))"
   ]
  },
  {
   "cell_type": "code",
   "execution_count": 84,
   "id": "cc65cc21",
   "metadata": {},
   "outputs": [
    {
     "data": {
      "text/plain": [
       "array([[434,  50],\n",
       "       [ 74, 110]], dtype=int64)"
      ]
     },
     "execution_count": 84,
     "metadata": {},
     "output_type": "execute_result"
    }
   ],
   "source": [
    "# Displaying confusion matrix\n",
    "\n",
    "confusion_matrix(Y_test, Y_pred_xgb_best)"
   ]
  },
  {
   "cell_type": "code",
   "execution_count": 85,
   "id": "34635b27",
   "metadata": {},
   "outputs": [
    {
     "data": {
      "image/png": "[encoded data removed]",
      "text/plain": [
       "<Figure size 640x480 with 1 Axes>"
      ]
     },
     "metadata": {},
     "output_type": "display_data"
    }
   ],
   "source": [
    "# Plotting ROC curve\n",
    "\n",
    "fpr, tpr, _ = metrics.roc_curve(Y_test,  Y_pred_xgb_best)\n",
    "auc = metrics.roc_auc_score(Y_test, Y_pred_xgb_best) # Calculating and plotting auc value\n",
    "plt.plot(fpr,tpr,label=\"LR, auc=\"+str(auc))\n",
    "plt.legend(loc=4)\n",
    "plt.show()"
   ]
  },
  {
   "cell_type": "markdown",
   "id": "5cfa8aa0",
   "metadata": {},
   "source": [
    "# Model Interpretation :"
   ]
  },
  {
   "cell_type": "markdown",
   "id": "a49cb9b8",
   "metadata": {},
   "source": [
    "the XGBoost Classifier without Grid Search appears to perform better in terms of accuracy, precision, and recall compared to the XGBoost Classifier with Grid Search. However, the model without Grid Search has a slightly lower AUC of ROC. The choice between the two models depends on our specific objectives and the trade-offs between different performance metrics. It's essential to consider the implications of false positives and false negatives in your application when selecting the best model.\n",
    "\n"
   ]
  },
  {
   "cell_type": "markdown",
   "id": "528294b5",
   "metadata": {},
   "source": [
    "# COMPARING ALL VALUES\n"
   ]
  },
  {
   "cell_type": "markdown",
   "id": "6c9c701b",
   "metadata": {},
   "source": [
    "**LOGISTIC CLASSIFICATION**\n",
    "\n",
    "\n",
    "Accuracy score (train): 0.8348\n",
    "Accuracy score (test): 0.8293\n",
    "Precision score (train): 0.7308\n",
    "Precision score (test): 0.7500\n",
    "Recall score (train): 0.5580\n",
    "Recall score (test): 0.5707\n",
    "\n",
    "ROC AUC Score (0.7491)\n",
    "\n",
    "\n",
    "\n",
    "\n",
    "\n",
    "**LDA (Linear Discremenant Analysis)**\n",
    "\n",
    "Training Accuracy score for LDA: 0.8291494941925814\n",
    "Training Precision score for LDA: 0.6949740034662045\n",
    "Training Recall score for LDA: 0.5888399412628488\n",
    "Test Accuracy score for LDA: 0.8278443113772455\n",
    "Test Precision score for LDA: 0.7315436241610739\n",
    "Test Recall score for LDA: 0.592391304347826\n",
    "\n",
    "ROC AUC Score (0.75487)\n",
    "\n",
    "\n",
    "\n",
    "\n",
    "\n",
    "\n",
    "**KNN CLASSIFICATION WITH GRID SEARCH CV**\n",
    " \n",
    " \n",
    " Best Parameters: {'n_neighbors': 10, 'weights': 'distance'}\n",
    "Train Accuracy score for KNN: 1.0\n",
    "Train Precision score for KNN: 1.0\n",
    "Train Recall score for KNN: 1.0\n",
    "Test Accuracy score for KNN: 0.8173652694610778\n",
    "Test Precision score for KNN: 0.7246376811594203\n",
    "Test Recall score for KNN: 0.5434782608695652\n",
    "\n",
    "ROC AUC Score (0.73248)\n",
    "\n",
    "\n",
    "\n",
    "\n",
    "**Decision tree classifier WITH GRIDSEARCHCV**\n",
    "\n",
    "\n",
    "Best hyperparameters: {'criterion': 'gini', 'max_depth': 4, 'min_samples_leaf': 1, 'min_samples_split': 2}\n",
    "Training score for Decision tree (train set): 0.8433870363431997\n",
    "Accuracy score for Decision tree (test set): 0.8068862275449101\n",
    "Precision score for Decision tree (test set): 0.697841726618705\n",
    "Recall score for Decision tree (test set): 0.5271739130434783\n",
    "Training Precision score for Decision tree (train set): 0.7756813417190775\n",
    "Training Recall score for Decision tree (train set): 0.5433186490455213\n",
    "\n",
    "\n",
    "ROC AUC Score (0.7201)\n",
    "\n",
    "\n",
    "\n",
    "\n",
    "\n",
    "\n",
    "**Random forest - Using grid search**\n",
    "\n",
    "Accuracy score for Random Forest using grid_search: 0.8248502994011976\n",
    "Precision score for Random Forest using grid_search: 0.7557251908396947\n",
    "Recall score for Random Forest using grid_search: 0.5380434782608695\n",
    "\n",
    "\n",
    "ROC AUC Score (0.73596)\n",
    "\n",
    "\n",
    "\n",
    "\n",
    "\n",
    "\n",
    "\n",
    "**Gradient Boosting classifier**\n",
    "\n",
    "\n",
    "Train Accuracy score for Gradient Boosting classifier: 0.88\n",
    "Train Precision score for Gradient Boosting classifier: 0.86\n",
    "Train Recall score for Gradient Boosting classifier: 0.62\n",
    "Test Accuracy score for Gradient Boosting classifier: 0.83\n",
    "Test Precision score for Gradient Boosting classifier: 0.75\n",
    "Test Recall score for Gradient Boosting classifier: 0.56\n",
    "\n",
    "AUC of ROC Score (0.7447)\n",
    "\n",
    "\n",
    "\n",
    "\n",
    "\n",
    "**ADA Boosting classifier**\n",
    "\n",
    "Accuracy score for AdaBoost: 0.8218562874251497\n",
    "Precision score for AdaBoost: 0.751937984496124\n",
    "Recall score for AdaBoost: 0.5271739130434783\n",
    "Train Accuracy Score: 0.8546\n",
    "Test Accuracy Score: 0.8219\n",
    "\n",
    "AUC of ROC Score (0.7305)\n",
    "\n",
    "\n",
    "\n",
    "\n",
    "\n",
    "\n",
    "\n",
    "**Ada boost using estimator Random forest**\n",
    "\n",
    "Accuracy score for Ada Boost with Random Forest (Train Set): 1.0\n",
    "Precision score for Ada Boost with Random Forest (Train Set): 1.0\n",
    "Recall score for Ada Boost with Random Forest (Train Set): 1.0\n",
    "\n",
    "Accuracy score for Ada Boost with Random Forest (Test Set): 0.8263473053892215\n",
    "Precision score for Ada Boost with Random Forest (Test Set): 0.7463768115942029\n",
    "Recall score for Ada Boost with Random Forest (Test Set): 0.5597826086956522\n",
    "\n",
    "AUC of ROC Score (0.7437)\n",
    "\n",
    "\n",
    "\n",
    "\n",
    "\n",
    "**XG BOOST**\n",
    "\n",
    "Train Accuracy score for XGBoost: 0.9741\n",
    "Train Precision score for XGBoost: 0.9904\n",
    "Train Recall score for XGBoost: 0.9075\n",
    "Test Accuracy score for XGBoost: 0.8174\n",
    "Test Precision score for XGBoost: 0.7067\n",
    "Test Recall score for XGBoost: 0.5761\n",
    "AUC of ROC Score (0.7425)\n",
    "\n",
    "\n",
    "\n",
    "\n",
    "\n",
    "**Using grid search - XG boost**\n",
    "\n",
    "\n",
    "Accuracy score for xgb boost: 0.8143712574850299\n",
    "Precision score for xgb boost: 0.6875\n",
    "Recall score for xgb boost: 0.5978260869565217\n",
    "\n",
    "AUC of ROC Score (0.7472)\n"
   ]
  },
  {
   "cell_type": "markdown",
   "id": "d06f4f02",
   "metadata": {},
   "source": [
    "# Weather Prediction Machine Learning model"
   ]
  },
  {
   "cell_type": "markdown",
   "id": "e0f950ef",
   "metadata": {},
   "source": [
    "# Questions"
   ]
  },
  {
   "cell_type": "markdown",
   "id": "fdadc0ca",
   "metadata": {},
   "source": [
    "# 1. Your views about the problem statement?"
   ]
  },
  {
   "cell_type": "markdown",
   "id": "3091d946",
   "metadata": {},
   "source": [
    "This problem statement is valuable because it tackles the practical requirement for precise rainfall prediction. It offers an opportunity to apply classification models in a real-world context. The task involves developing a machine learning model to forecast rainfall in Sydney, Australia, utilizing diverse classification techniques such as Decision Trees and Ensemble methods. Given the significance of accurate weather predictions for daily planning and events, this problem statement holds real-world relevance."
   ]
  },
  {
   "cell_type": "markdown",
   "id": "5fa6d9c0",
   "metadata": {},
   "source": [
    "# 2. What will be your approach to solving this task?"
   ]
  },
  {
   "cell_type": "markdown",
   "id": "4c4652dc",
   "metadata": {},
   "source": [
    "**Data Loading and Exploration** :\n",
    "Load the provided Sydney rainfall data file into a pandas DataFrame.\n",
    "Explore the dataset to understand its structure, features, and data types.\n",
    "Perform descriptive statistics to gain insights into the data.\n",
    "\n",
    "\n",
    "**Data Preprocessing**:\n",
    "Create dummy variables for the \"RainToday & RainTomorrow\" field using one-hot encoding.\n",
    "Check for missing values and outliers.\n",
    "Executing correlation, to analyze significant correlation with dependent variable and \"Multi collinearity\" between two independent variable and by deleting unncessary columns.\n",
    "Check for missing values and outliers.\n",
    "\n",
    "\n",
    "**Model Selection**:\n",
    "Choose and implement multiple classification & ensemble models, such as Logistic Regression, LDA, KNN, Random Forest Classifier, Gradient Boosting Classifier, ADA Bosst Classifier & XG Boost Classifier.\n",
    "Evaluate each model's performance using appropriate metrics (e.g., Confusion matrix, Accuracy score, Precision score, Recall score & ROC of AUC score) on the test data.\n",
    "\n",
    "\n",
    "**Model Evaluation**:\n",
    "Compare the metrics of each model to evaluate its performance.\n",
    "Based on the problem's unique needs and criteria, choose the model that gives the greatest performance.\n",
    "Model finalization:\n",
    "Choose the model with the greatest performance on the assessment measures, taking into account characteristics such as accuracy, interpretability, and computational complexity."
   ]
  },
  {
   "cell_type": "markdown",
   "id": "a813ff16",
   "metadata": {},
   "source": [
    "# 3. What were the available ML model options you had to perform this task?"
   ]
  },
  {
   "cell_type": "markdown",
   "id": "85f34fa0",
   "metadata": {},
   "source": [
    "**For the task of predicting rainfall in Sydney, there are several machine learning model options available. Here are some of the key model options that can be considered:**\n",
    "\n",
    "**Decision Trees:** Decision tree classifiers are a fundamental classification model. They work by recursively splitting the data into subsets based on the most significant input features, creating a tree-like structure.\n",
    "\n",
    "**Random Forest:** Random Forest is an ensemble method that combines multiple decision trees to improve prediction accuracy. It uses bagging (bootstrap aggregating) to create multiple decision trees and averages their predictions.\n",
    "\n",
    "**Gradient Boosting:** Gradient Boosting is another ensemble method that combines multiple weak learners (typically decision trees) to create a strong learner.\n",
    "\n",
    "**AdaBoost:** AdaBoost is an ensemble method that combines multiple weak classifiers to create a strong classifier. It adjusts the weights of data points to focus on examples that are difficult to classify.\n",
    "\n",
    "**XGBoost:** XGBoost is a popular gradient boosting algorithm known for its high performance. It is suitable for classification tasks and can provide accurate predictions.\n",
    "\n",
    "**Logistic Regression:** While logistic regression is primarily used for binary classification, it can also be applied to multi-class classification tasks. It's a simple and interpretable model.\n",
    "\n",
    "**K-Nearest Neighbors (KNN):** KNN is a non-parametric model that classifies data points based on the majority class of their nearest neighbors."
   ]
  },
  {
   "cell_type": "markdown",
   "id": "31357ce4",
   "metadata": {},
   "source": [
    " # 4. Which model’s performance is best and what could be the possible reason for that?"
   ]
  },
  {
   "cell_type": "markdown",
   "id": "c12c6aab",
   "metadata": {},
   "source": [
    "**LOGISTIC CLASSIFICATION**\n",
    "\n",
    "\n",
    "Accuracy score (train): 0.8348\n",
    "Accuracy score (test): 0.8293\n",
    "Precision score (train): 0.7308\n",
    "Precision score (test): 0.7500\n",
    "Recall score (train): 0.5580\n",
    "Recall score (test): 0.5707\n",
    "\n",
    "ROC AUC Score (0.7491)\n",
    "\n",
    "\n",
    "\n",
    "\n",
    "\n",
    "**LDA (Linear Discremenant Analysis)**\n",
    "\n",
    "Training Accuracy score for LDA: 0.8291494941925814\n",
    "Training Precision score for LDA: 0.6949740034662045\n",
    "Training Recall score for LDA: 0.5888399412628488\n",
    "Test Accuracy score for LDA: 0.8278443113772455\n",
    "Test Precision score for LDA: 0.7315436241610739\n",
    "Test Recall score for LDA: 0.592391304347826\n",
    "\n",
    "ROC AUC Score (0.75487)\n",
    "\n",
    "\n",
    "\n",
    "\n",
    "\n",
    "\n",
    "**KNN CLASSIFICATION WITH GRID SEARCH CV**\n",
    " \n",
    " \n",
    " Best Parameters: {'n_neighbors': 10, 'weights': 'distance'}\n",
    "Train Accuracy score for KNN: 1.0\n",
    "Train Precision score for KNN: 1.0\n",
    "Train Recall score for KNN: 1.0\n",
    "Test Accuracy score for KNN: 0.8173652694610778\n",
    "Test Precision score for KNN: 0.7246376811594203\n",
    "Test Recall score for KNN: 0.5434782608695652\n",
    "\n",
    "ROC AUC Score (0.73248)\n",
    "\n",
    "\n",
    "\n",
    "\n",
    "**Decision tree classifier WITH GRIDSEARCHCV**\n",
    "\n",
    "\n",
    "Best hyperparameters: {'criterion': 'gini', 'max_depth': 4, 'min_samples_leaf': 1, 'min_samples_split': 2}\n",
    "Training score for Decision tree (train set): 0.8433870363431997\n",
    "Accuracy score for Decision tree (test set): 0.8068862275449101\n",
    "Precision score for Decision tree (test set): 0.697841726618705\n",
    "Recall score for Decision tree (test set): 0.5271739130434783\n",
    "Training Precision score for Decision tree (train set): 0.7756813417190775\n",
    "Training Recall score for Decision tree (train set): 0.5433186490455213\n",
    "\n",
    "\n",
    "ROC AUC Score (0.7201)\n",
    "\n",
    "\n",
    "\n",
    "\n",
    "\n",
    "\n",
    "**Random forest - Using grid search**\n",
    "\n",
    "Accuracy score for Random Forest using grid_search: 0.8248502994011976\n",
    "Precision score for Random Forest using grid_search: 0.7557251908396947\n",
    "Recall score for Random Forest using grid_search: 0.5380434782608695\n",
    "\n",
    "\n",
    "ROC AUC Score (0.73596)\n",
    "\n",
    "\n",
    "\n",
    "\n",
    "\n",
    "\n",
    "\n",
    "**Gradient Boosting classifier**\n",
    "\n",
    "\n",
    "Train Accuracy score for Gradient Boosting classifier: 0.88\n",
    "Train Precision score for Gradient Boosting classifier: 0.86\n",
    "Train Recall score for Gradient Boosting classifier: 0.62\n",
    "Test Accuracy score for Gradient Boosting classifier: 0.83\n",
    "Test Precision score for Gradient Boosting classifier: 0.75\n",
    "Test Recall score for Gradient Boosting classifier: 0.56\n",
    "\n",
    "AUC of ROC Score (0.7447)\n",
    "\n",
    "\n",
    "\n",
    "\n",
    "\n",
    "**ADA Boosting classifier**\n",
    "\n",
    "Accuracy score for AdaBoost: 0.8218562874251497\n",
    "Precision score for AdaBoost: 0.751937984496124\n",
    "Recall score for AdaBoost: 0.5271739130434783\n",
    "Train Accuracy Score: 0.8546\n",
    "Test Accuracy Score: 0.8219\n",
    "\n",
    "AUC of ROC Score (0.7305)\n",
    "\n",
    "\n",
    "\n",
    "\n",
    "\n",
    "\n",
    "\n",
    "**Ada boost using estimator Random forest**\n",
    "\n",
    "Accuracy score for Ada Boost with Random Forest (Train Set): 1.0\n",
    "Precision score for Ada Boost with Random Forest (Train Set): 1.0\n",
    "Recall score for Ada Boost with Random Forest (Train Set): 1.0\n",
    "\n",
    "Accuracy score for Ada Boost with Random Forest (Test Set): 0.8263473053892215\n",
    "Precision score for Ada Boost with Random Forest (Test Set): 0.7463768115942029\n",
    "Recall score for Ada Boost with Random Forest (Test Set): 0.5597826086956522\n",
    "\n",
    "AUC of ROC Score (0.7437)\n",
    "\n",
    "\n",
    "\n",
    "\n",
    "\n",
    "**XG BOOST**\n",
    "\n",
    "Train Accuracy score for XGBoost: 0.9741\n",
    "Train Precision score for XGBoost: 0.9904\n",
    "Train Recall score for XGBoost: 0.9075\n",
    "Test Accuracy score for XGBoost: 0.8174\n",
    "Test Precision score for XGBoost: 0.7067\n",
    "Test Recall score for XGBoost: 0.5761\n",
    "AUC of ROC Score (0.7425)\n",
    "\n",
    "\n",
    "\n",
    "\n",
    "\n",
    "**Using grid search - XG boost**\n",
    "\n",
    "\n",
    "Accuracy score for xgb boost: 0.8143712574850299\n",
    "Precision score for xgb boost: 0.6875\n",
    "Recall score for xgb boost: 0.5978260869565217\n",
    "\n",
    "AUC of ROC Score (0.7472)\n",
    "\n",
    "\n",
    "**Analysis and Decision**:\n",
    "\n",
    "Random Forest with Grid search cv has the best performance with an accuracy score of 82.4850% on the test dataset. Random Forest reduces overfitting and provides robust predictions through ensemble methods.\n",
    "\n",
    "If precision is a priority, Logistic Regression and AdaBoost may be considered, as both models have high precision scores. The choice of the best model depends on your specific goals and requirements."
   ]
  },
  {
   "cell_type": "markdown",
   "id": "49623643",
   "metadata": {},
   "source": [
    "# 5. What steps can you take to improve this selected model’s performance even further?"
   ]
  },
  {
   "cell_type": "markdown",
   "id": "f19e1eab",
   "metadata": {},
   "source": [
    "* **Hyperparameter Tuning:**\n",
    "\n",
    "Experiment with different hyperparameters for both the AdaBoost and Random Forest components of the model. This includes the number of estimators, learning rate, maximum depth, and minimum samples per leaf in the Random Forest.\n",
    "\n",
    "* **Feature Engineering:**\n",
    "\n",
    "Carefully analyze the available features and consider creating new features that might capture more relevant information for rainfall prediction.\n",
    "\n",
    "* **Data Augmentation:**\n",
    "\n",
    "If possible, gather additional data or historical weather information to increase the size and diversity of the dataset. More data can lead to a more robust and accurate model.\n",
    "\n",
    "* **Cross-Validation:**\n",
    "\n",
    "Implement cross-validation techniques to ensure that the model's performance is consistent across different subsets of the data. This helps in detecting overfitting and generalizing better.\n",
    "\n",
    "* **Ensemble Variations:**\n",
    "\n",
    "Explore variations of ensemble techniques. You can try other boosting algorithms like Gradient Boosting or XGBoost to see if they provide better results when combined with the Random Forest base estimator.\n",
    "\n",
    "* **Optimize Data Preprocessing:**\n",
    "\n",
    "Ensure that data preprocessing steps, such as handling missing values and encoding categorical variables, are optimized for the specific characteristics of the dataset.\n",
    "\n",
    "* **Regularization:**\n",
    "\n",
    "Consider adding regularization techniques to the Random Forest component to control model complexity and prevent overfitting."
   ]
  },
  {
   "cell_type": "code",
   "execution_count": null,
   "id": "3f92d9fe",
   "metadata": {},
   "outputs": [],
   "source": []
  }
 ],
 "metadata": {
  "kernelspec": {
   "display_name": "Python 3 (ipykernel)",
   "language": "python",
   "name": "python3"
  },
  "language_info": {
   "codemirror_mode": {
    "name": "ipython",
    "version": 3
   },
   "file_extension": ".py",
   "mimetype": "text/x-python",
   "name": "python",
   "nbconvert_exporter": "python",
   "pygments_lexer": "ipython3",
   "version": "3.11.5"
  }
 },
 "nbformat": 4,
 "nbformat_minor": 5
}
